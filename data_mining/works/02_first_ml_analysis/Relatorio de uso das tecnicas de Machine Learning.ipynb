{
 "cells": [
  {
   "cell_type": "markdown",
   "metadata": {},
   "source": [
    "**Aluno**: José Carlos Viana Filho\n",
    "\n",
    "# Base de dados\n",
    "\n",
    "**Biomechanical features of orthopedic patients**\n",
    "\n",
    "Classifying patients based on six features\n",
    "\n",
    "url: https://www.kaggle.com/uciml/biomechanical-features-of-orthopedic-patients/data"
   ]
  },
  {
   "cell_type": "markdown",
   "metadata": {},
   "source": [
    "# Tratamento dos dados"
   ]
  },
  {
   "cell_type": "code",
   "execution_count": 1,
   "metadata": {},
   "outputs": [
    {
     "name": "stdout",
     "output_type": "stream",
     "text": [
      "'data.frame':\t310 obs. of  7 variables:\n",
      " $ pelvic_incidence        : num  63 39.1 68.8 69.3 49.7 ...\n",
      " $ pelvic_tilt.numeric     : num  22.55 10.06 22.22 24.65 9.65 ...\n",
      " $ lumbar_lordosis_angle   : num  39.6 25 50.1 44.3 28.3 ...\n",
      " $ sacral_slope            : num  40.5 29 46.6 44.6 40.1 ...\n",
      " $ pelvic_radius           : num  98.7 114.4 106 101.9 108.2 ...\n",
      " $ degree_spondylolisthesis: num  -0.254 4.564 -3.53 11.212 7.919 ...\n",
      " $ class                   : chr  \"Abnormal\" \"Abnormal\" \"Abnormal\" \"Abnormal\" ...\n"
     ]
    },
    {
     "data": {
      "text/plain": [
       "\n",
       "Abnormal   Normal \n",
       "     210      100 "
      ]
     },
     "metadata": {},
     "output_type": "display_data"
    }
   ],
   "source": [
    "# load database\n",
    "ortho <- read.csv(\"ortho.csv\", stringsAsFactor = FALSE)\n",
    "\n",
    "str(ortho)\n",
    "table(ortho$class)"
   ]
  },
  {
   "cell_type": "markdown",
   "metadata": {},
   "source": [
    "Variável de interesse: *class*\n",
    "\n",
    "Essa variável possui dois valores possíveis: *Abnormal* e *Normal*\n",
    "\n",
    "## Checagem de valores vazios ou perdidos"
   ]
  },
  {
   "cell_type": "code",
   "execution_count": 2,
   "metadata": {},
   "outputs": [
    {
     "data": {
      "text/html": [
       "0"
      ],
      "text/latex": [
       "0"
      ],
      "text/markdown": [
       "0"
      ],
      "text/plain": [
       "[1] 0"
      ]
     },
     "metadata": {},
     "output_type": "display_data"
    },
    {
     "data": {
      "text/html": [
       "0"
      ],
      "text/latex": [
       "0"
      ],
      "text/markdown": [
       "0"
      ],
      "text/plain": [
       "[1] 0"
      ]
     },
     "metadata": {},
     "output_type": "display_data"
    },
    {
     "data": {
      "text/html": [
       "0"
      ],
      "text/latex": [
       "0"
      ],
      "text/markdown": [
       "0"
      ],
      "text/plain": [
       "[1] 0"
      ]
     },
     "metadata": {},
     "output_type": "display_data"
    }
   ],
   "source": [
    "sum(ortho$class == \"\")\n",
    "sum(is.na(ortho$class))\n",
    "sum(is.nan(ortho$class))"
   ]
  },
  {
   "cell_type": "markdown",
   "metadata": {},
   "source": [
    "Não há valores perdidos ou vazios na variável de interesse.\n",
    "\n",
    "## Normalizar os valores\n",
    "\n",
    "Antes de prosseguir, é importante normalizar os valores das outras variáveis, que serão usadas para predizer a variável *class*. Antes de normalizar, vamos verificar o estado atual delas:"
   ]
  },
  {
   "cell_type": "code",
   "execution_count": 3,
   "metadata": {},
   "outputs": [
    {
     "data": {
      "text/plain": [
       " pelvic_incidence pelvic_tilt.numeric lumbar_lordosis_angle  sacral_slope   \n",
       " Min.   : 26.15   Min.   :-6.555      Min.   : 14.00        Min.   : 13.37  \n",
       " 1st Qu.: 46.43   1st Qu.:10.667      1st Qu.: 37.00        1st Qu.: 33.35  \n",
       " Median : 58.69   Median :16.358      Median : 49.56        Median : 42.40  \n",
       " Mean   : 60.50   Mean   :17.543      Mean   : 51.93        Mean   : 42.95  \n",
       " 3rd Qu.: 72.88   3rd Qu.:22.120      3rd Qu.: 63.00        3rd Qu.: 52.70  \n",
       " Max.   :129.83   Max.   :49.432      Max.   :125.74        Max.   :121.43  \n",
       " pelvic_radius    degree_spondylolisthesis\n",
       " Min.   : 70.08   Min.   :-11.058         \n",
       " 1st Qu.:110.71   1st Qu.:  1.604         \n",
       " Median :118.27   Median : 11.768         \n",
       " Mean   :117.92   Mean   : 26.297         \n",
       " 3rd Qu.:125.47   3rd Qu.: 41.287         \n",
       " Max.   :163.07   Max.   :418.543         "
      ]
     },
     "metadata": {},
     "output_type": "display_data"
    }
   ],
   "source": [
    "summary(ortho[1:6])"
   ]
  },
  {
   "cell_type": "markdown",
   "metadata": {},
   "source": [
    "Já podemos observar intervalos bem diferentes entre uma variável e outra. Precisamos de uma função para realizar a normalização:"
   ]
  },
  {
   "cell_type": "code",
   "execution_count": 4,
   "metadata": {},
   "outputs": [],
   "source": [
    "normalize <- function(x) {\n",
    "    return ((x - min(x)) / (max(x) - min(x)))\n",
    "}"
   ]
  },
  {
   "cell_type": "markdown",
   "metadata": {},
   "source": [
    "Agora podemos normalizar os dados:"
   ]
  },
  {
   "cell_type": "code",
   "execution_count": 5,
   "metadata": {},
   "outputs": [],
   "source": [
    "ortho_n <- as.data.frame(lapply(ortho[1:6], normalize))"
   ]
  },
  {
   "cell_type": "markdown",
   "metadata": {},
   "source": [
    "Checando os valores normalizados:"
   ]
  },
  {
   "cell_type": "code",
   "execution_count": 6,
   "metadata": {},
   "outputs": [
    {
     "data": {
      "text/plain": [
       " pelvic_incidence pelvic_tilt.numeric lumbar_lordosis_angle  sacral_slope   \n",
       " Min.   :0.0000   Min.   :0.0000      Min.   :0.0000        Min.   :0.0000  \n",
       " 1st Qu.:0.1956   1st Qu.:0.3076      1st Qu.:0.2058        1st Qu.:0.1849  \n",
       " Median :0.3139   Median :0.4093      Median :0.3183        Median :0.2687  \n",
       " Mean   :0.3313   Mean   :0.4304      Mean   :0.3394        Mean   :0.2738  \n",
       " 3rd Qu.:0.4507   3rd Qu.:0.5122      3rd Qu.:0.4385        3rd Qu.:0.3639  \n",
       " Max.   :1.0000   Max.   :1.0000      Max.   :1.0000        Max.   :1.0000  \n",
       " pelvic_radius    degree_spondylolisthesis\n",
       " Min.   :0.0000   Min.   :0.00000         \n",
       " 1st Qu.:0.4369   1st Qu.:0.02947         \n",
       " Median :0.5182   Median :0.05313         \n",
       " Mean   :0.5145   Mean   :0.08695         \n",
       " 3rd Qu.:0.5956   3rd Qu.:0.12185         \n",
       " Max.   :1.0000   Max.   :1.00000         "
      ]
     },
     "metadata": {},
     "output_type": "display_data"
    }
   ],
   "source": [
    "summary(ortho_n)"
   ]
  },
  {
   "cell_type": "markdown",
   "metadata": {},
   "source": [
    "Agora os valores possuem o mesmo *range*, de forma que não irão causar impacto idesejado nas análises."
   ]
  },
  {
   "cell_type": "markdown",
   "metadata": {},
   "source": [
    "# Criando os datasets de treinamento e de teste"
   ]
  },
  {
   "cell_type": "markdown",
   "metadata": {},
   "source": [
    "Para gerar modelos de aprendizagem e avaliar esses modelos, vamos dividir a base de dados em uma base de treinamento e uma base de teste. Para isso, vamos designar 75% para a base de treinamento e 25% para a base de teste. Essa divisão é aleatória."
   ]
  },
  {
   "cell_type": "code",
   "execution_count": 7,
   "metadata": {},
   "outputs": [],
   "source": [
    "# see https://stackoverflow.com/a/17200430\n",
    "\n",
    "smp_size <- floor(0.75 * nrow(ortho_n))\n",
    "\n",
    "# set the seed to make your partition reproductible\n",
    "set.seed(123)\n",
    "train_ind <- sample(seq_len(nrow(ortho_n)), size = smp_size)\n",
    "\n",
    "ortho_train <- ortho_n[train_ind, ]\n",
    "ortho_test <- ortho_n[-train_ind, ]"
   ]
  },
  {
   "cell_type": "markdown",
   "metadata": {},
   "source": [
    "Precisamos ainda das *labels*, que vamos retirar da variável *class*:"
   ]
  },
  {
   "cell_type": "code",
   "execution_count": 8,
   "metadata": {},
   "outputs": [],
   "source": [
    "ortho_train_labels <- ortho[train_ind, c(\"class\")]\n",
    "ortho_test_labels <- ortho[-train_ind, c(\"class\")]"
   ]
  },
  {
   "cell_type": "markdown",
   "metadata": {},
   "source": [
    "# Funções de Machine Learning"
   ]
  },
  {
   "cell_type": "markdown",
   "metadata": {},
   "source": [
    "As funções a seguir são usadas para executar diversos métodos de machine learning."
   ]
  },
  {
   "cell_type": "code",
   "execution_count": 9,
   "metadata": {},
   "outputs": [],
   "source": [
    "# install packages\n",
    "list.of.packages <- c(\"class\", \"janitor\")\n",
    "new.packages <- list.of.packages[!(list.of.packages %in% installed.packages()[,\"Package\"])]\n",
    "if(length(new.packages)) install.packages(new.packages, quiet = TRUE)"
   ]
  },
  {
   "cell_type": "code",
   "execution_count": 10,
   "metadata": {},
   "outputs": [],
   "source": [
    "# load libs\n",
    "library(\"class\", quietly = TRUE, warn.conflicts = FALSE)\n",
    "library(\"janitor\", quietly = TRUE, warn.conflicts = FALSE)"
   ]
  },
  {
   "cell_type": "code",
   "execution_count": 11,
   "metadata": {},
   "outputs": [],
   "source": [
    "# kNN\n",
    "exec_knn <- function(k_value) {\n",
    "    ortho_test_pred <- knn(train = ortho_train, test = ortho_test, cl = ortho_train_labels, k = k_value)\n",
    "    datf <- data.frame(ortho_test_labels, ortho_test_pred)\n",
    "    return (tabyl(datf, ortho_test_labels, ortho_test_pred))\n",
    "}"
   ]
  },
  {
   "cell_type": "markdown",
   "metadata": {},
   "source": [
    "# Funções das métricas"
   ]
  },
  {
   "cell_type": "markdown",
   "metadata": {},
   "source": [
    "As funções à seguir calculam as métricas de interesse, para avaliação de cada técnica de machine learning."
   ]
  },
  {
   "cell_type": "code",
   "execution_count": 12,
   "metadata": {},
   "outputs": [],
   "source": [
    "# true positive\n",
    "tp_value <- function(ctable) {\n",
    "    return (ctable[1,2])\n",
    "}\n",
    "\n",
    "# true negative\n",
    "tn_value <- function(ctable) {\n",
    "    return (ctable[2,3])\n",
    "}\n",
    "\n",
    "# false positive\n",
    "fp_value <- function(ctable) {\n",
    "    return (ctable[1,3])\n",
    "}\n",
    "\n",
    "# false negative\n",
    "fn_value <- function(ctable) {\n",
    "    return (ctable[2,2])\n",
    "}\n",
    "\n",
    "# precision\n",
    "precision <- function(ctable) {\n",
    "    return (tp_value(ctable)/(tp_value(ctable) + fp_value(ctable)))\n",
    "}\n",
    "\n",
    "# recall\n",
    "recall <- function(ctable) {\n",
    "    return (tp_value(ctable)/(tp_value(ctable) + fn_value(ctable)))\n",
    "}\n",
    "\n",
    "# accuracy\n",
    "accuracy <- function(ctable) {\n",
    "    return ((tp_value(ctable) + tn_value(ctable))/(tp_value(ctable) + tn_value(ctable) + fp_value(ctable) + \n",
    "                                                   fn_value(ctable)))\n",
    "}\n",
    "\n",
    "# predicted positive condition rate\n",
    "pred_pos_cond_rt <- function(ctable) {\n",
    "    return ((tp_value(ctable) + fp_value(ctable))/(tp_value(ctable) + fp_value(ctable) + tn_value(ctable) +\n",
    "                                                  fn_value(ctable)))\n",
    "}\n",
    "\n",
    "# f measure\n",
    "f_measure <- function(ctable) {\n",
    "    return ((2 * precision(ctable) * recall(ctable))/(precision(ctable) + recall(ctable)))\n",
    "}\n",
    "\n",
    "# informedness\n",
    "informedness <- function(ctable) {\n",
    "    return (recall(ctable) + (tn_value(ctable)/(tn_value(ctable) + fp_value(ctable))) - 1)\n",
    "}\n",
    "\n",
    "# markedness\n",
    "markedness <- function(ctable) {\n",
    "    return (precision(ctable) + (tn_value(ctable)/(tn_value(ctable) + fn_value(ctable))) - 1)\n",
    "}"
   ]
  },
  {
   "cell_type": "markdown",
   "metadata": {},
   "source": [
    "# Execução das técnicas de Machine Learning"
   ]
  },
  {
   "cell_type": "code",
   "execution_count": 13,
   "metadata": {},
   "outputs": [
    {
     "data": {
      "text/html": [
       "0.807692307692308"
      ],
      "text/latex": [
       "0.807692307692308"
      ],
      "text/markdown": [
       "0.807692307692308"
      ],
      "text/plain": [
       "[1] 0.8076923"
      ]
     },
     "metadata": {},
     "output_type": "display_data"
    },
    {
     "data": {
      "text/html": [
       "0.826923076923077"
      ],
      "text/latex": [
       "0.826923076923077"
      ],
      "text/markdown": [
       "0.826923076923077"
      ],
      "text/plain": [
       "[1] 0.8269231"
      ]
     },
     "metadata": {},
     "output_type": "display_data"
    },
    {
     "data": {
      "text/html": [
       "0.877551020408163"
      ],
      "text/latex": [
       "0.877551020408163"
      ],
      "text/markdown": [
       "0.877551020408163"
      ],
      "text/plain": [
       "[1] 0.877551"
      ]
     },
     "metadata": {},
     "output_type": "display_data"
    }
   ],
   "source": [
    "# kNN\n",
    "ctable <- exec_knn(5)\n",
    "accuracy(ctable)\n",
    "precision(ctable)\n",
    "recall(ctable)"
   ]
  }
 ],
 "metadata": {
  "kernelspec": {
   "display_name": "R",
   "language": "R",
   "name": "ir"
  },
  "language_info": {
   "codemirror_mode": "r",
   "file_extension": ".r",
   "mimetype": "text/x-r-source",
   "name": "R",
   "pygments_lexer": "r",
   "version": "3.2.3"
  }
 },
 "nbformat": 4,
 "nbformat_minor": 2
}
