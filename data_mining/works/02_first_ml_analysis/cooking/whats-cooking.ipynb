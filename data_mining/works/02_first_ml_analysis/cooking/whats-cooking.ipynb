{
 "cells": [
  {
   "cell_type": "markdown",
   "metadata": {},
   "source": [
    "Dados: https://www.kaggle.com/c/whats-cooking/data\n",
    "\n",
    "\n",
    "Script em python para transformar os dados json em csv:\n",
    "\n",
    "```python\n",
    "import json\n",
    "import codecs\n",
    "import sys\n",
    "\n",
    "def load_data(path):\n",
    "    data = None\n",
    "    with open(path,\"r\") as f:\n",
    "        data = json.load(f)\n",
    "    return data\n",
    "\n",
    "def write_data(path, data, istest):\n",
    "    with codecs.open(path,\"w\",\"utf-8\") as f:\n",
    "        f.write(\"id|\"+ (\"cuisine|\" if not istest else \"\") +\"ingredients\")\n",
    "    \n",
    "        for line in data:\n",
    "            f.write(\"\\n\")\n",
    "            row = str(line[\"id\"]) + \"|\" + \\\n",
    "                    (line[\"cuisine\"] + \"|\" if not istest else \"\")\n",
    "            for ingredient in line['ingredients']:\n",
    "                row += ingredient + \",\"\n",
    "            row = row[0:-1]\n",
    "            f.write(row)\n",
    "\n",
    "data = load_data(\"train.json\")\n",
    "write_data(\"train.csv\",data,False)\n",
    "data = load_data(\"test.json\")\n",
    "write_data(\"test.csv\", data, True)\n",
    "```"
   ]
  },
  {
   "cell_type": "code",
   "execution_count": 1,
   "metadata": {},
   "outputs": [
    {
     "name": "stdout",
     "output_type": "stream",
     "text": [
      "'data.frame':\t39774 obs. of  3 variables:\n",
      " $ id         : int  10259 25693 20130 22213 13162 6602 42779 3735 16903 12734 ...\n",
      " $ cuisine    : Factor w/ 20 levels \"brazilian\",\"british\",..: 7 17 5 8 8 11 18 10 14 10 ...\n",
      " $ ingredients: Factor w/ 39674 levels \"(    oz.) tomato sauce,diced tomatoes,chopped onion,dried oregano,red beans,chopped celery,green chilies,ground\"| __truncated__,..: 28492 26710 10343 38377 2528 26725 24040 33076 23888 6522 ...\n"
     ]
    }
   ],
   "source": [
    "data <- read.csv(\"train.csv\", sep = \"|\")\n",
    "str(data)"
   ]
  },
  {
   "cell_type": "markdown",
   "metadata": {},
   "source": [
    "Primeiro, vamos separar cada ingrediente"
   ]
  },
  {
   "cell_type": "code",
   "execution_count": 2,
   "metadata": {},
   "outputs": [
    {
     "name": "stderr",
     "output_type": "stream",
     "text": [
      "Installing package into ‘/home/carlos/R/x86_64-pc-linux-gnu-library/3.4’\n",
      "(as ‘lib’ is unspecified)\n",
      "Downloading package from url: https://cran.r-project.org/src/contrib/Archive/slam/slam_0.1-37.tar.gz\n",
      "Installing slam\n",
      "'/usr/lib/R/bin/R' --no-site-file --no-environ --no-save --no-restore --quiet  \\\n",
      "  CMD INSTALL '/tmp/RtmpoJEDGG/devtools5ee85e102f60/slam'  \\\n",
      "  --library='/home/carlos/R/x86_64-pc-linux-gnu-library/3.4' --install-tests \n",
      "\n",
      "Installing package into ‘/home/carlos/R/x86_64-pc-linux-gnu-library/3.4’\n",
      "(as ‘lib’ is unspecified)\n"
     ]
    }
   ],
   "source": [
    "install.packages('devtools')\n",
    "library('devtools')\n",
    "slam_url <- \"https://cran.r-project.org/src/contrib/Archive/slam/slam_0.1-37.tar.gz\"\n",
    "install_url(slam_url)\n",
    "install.packages('tm')"
   ]
  },
  {
   "cell_type": "code",
   "execution_count": 2,
   "metadata": {},
   "outputs": [
    {
     "name": "stderr",
     "output_type": "stream",
     "text": [
      "Loading required package: NLP\n"
     ]
    }
   ],
   "source": [
    "library('tm')"
   ]
  },
  {
   "cell_type": "code",
   "execution_count": 3,
   "metadata": {},
   "outputs": [],
   "source": [
    "data$ingredients <- gsub(' ','-',data$ingredients)\n",
    "data$ingredients <- gsub(',',' ',data$ingredients)"
   ]
  },
  {
   "cell_type": "code",
   "execution_count": 4,
   "metadata": {},
   "outputs": [
    {
     "name": "stdout",
     "output_type": "stream",
     "text": [
      "<<VCorpus>>\n",
      "Metadata:  corpus specific: 0, document level (indexed): 0\n",
      "Content:  documents: 39774\n",
      "[1] \"------------\"\n",
      "<<VCorpus>>\n",
      "Metadata:  corpus specific: 0, document level (indexed): 0\n",
      "Content:  documents: 2\n",
      "\n",
      "[[1]]\n",
      "<<PlainTextDocument>>\n",
      "Metadata:  7\n",
      "Content:  chars: 116\n",
      "\n",
      "[[2]]\n",
      "<<PlainTextDocument>>\n",
      "Metadata:  7\n",
      "Content:  chars: 121\n",
      "\n",
      "[1] \"------------\"\n"
     ]
    },
    {
     "data": {
      "text/html": [
       "'romaine-lettuce black-olives grape-tomatoes garlic pepper purple-onion seasoning garbanzo-beans feta-cheese-crumbles'"
      ],
      "text/latex": [
       "'romaine-lettuce black-olives grape-tomatoes garlic pepper purple-onion seasoning garbanzo-beans feta-cheese-crumbles'"
      ],
      "text/markdown": [
       "'romaine-lettuce black-olives grape-tomatoes garlic pepper purple-onion seasoning garbanzo-beans feta-cheese-crumbles'"
      ],
      "text/plain": [
       "[1] \"romaine-lettuce black-olives grape-tomatoes garlic pepper purple-onion seasoning garbanzo-beans feta-cheese-crumbles\""
      ]
     },
     "metadata": {},
     "output_type": "display_data"
    }
   ],
   "source": [
    "ingred_corpus <- VCorpus(VectorSource(data$ingredients))\n",
    "print(ingred_corpus)\n",
    "print(\"------------\")\n",
    "inspect(ingred_corpus[1:2])\n",
    "print(\"------------\")\n",
    "as.character(ingred_corpus[[1]])"
   ]
  },
  {
   "cell_type": "code",
   "execution_count": 5,
   "metadata": {},
   "outputs": [],
   "source": [
    "ingred_dtm <- DocumentTermMatrix(ingred_corpus)"
   ]
  },
  {
   "cell_type": "code",
   "execution_count": 6,
   "metadata": {},
   "outputs": [],
   "source": [
    "upper_bound <- floor(0.75 * nrow(data))\n",
    "\n",
    "ingred_dtm_train <- ingred_dtm[1:upper_bound, ]\n",
    "ingred_dtm_test <- ingred_dtm[(upper_bound+1):nrow(data), ]\n",
    "\n",
    "train_labels <- data[1:upper_bound, ]$cuisine\n",
    "test_labels <- data[(upper_bound+1):nrow(data), ]$cuisine"
   ]
  },
  {
   "cell_type": "code",
   "execution_count": 7,
   "metadata": {},
   "outputs": [
    {
     "data": {
      "text/plain": [
       "train_labels\n",
       "   brazilian      british cajun_creole      chinese     filipino       french \n",
       "  0.01146497   0.01994636   0.03821656   0.06627556   0.01900771   0.06580624 \n",
       "       greek       indian        irish      italian     jamaican     japanese \n",
       "  0.02913175   0.07539390   0.01642642   0.19849145   0.01354341   0.03613812 \n",
       "      korean      mexican     moroccan      russian  southern_us      spanish \n",
       "  0.02095206   0.16195106   0.02058331   0.01287295   0.10935300   0.02510895 \n",
       "        thai   vietnamese \n",
       "  0.03851827   0.02081797 "
      ]
     },
     "metadata": {},
     "output_type": "display_data"
    },
    {
     "data": {
      "text/plain": [
       "test_labels\n",
       "   brazilian      british cajun_creole      chinese     filipino       french \n",
       "  0.01257039   0.02101770   0.04082864   0.06999195   0.01890587   0.06868463 \n",
       "       greek       indian        irish      italian     jamaican     japanese \n",
       "  0.03077233   0.07582462   0.01779968   0.19277957   0.01226870   0.03469429 \n",
       "      korean      mexican     moroccan      russian  southern_us      spanish \n",
       "  0.02061545   0.16160499   0.02081657   0.01055913   0.10639582   0.02413516 \n",
       "        thai   vietnamese \n",
       "  0.03921963   0.02051488 "
      ]
     },
     "metadata": {},
     "output_type": "display_data"
    }
   ],
   "source": [
    "prop.table(table(train_labels))\n",
    "prop.table(table(test_labels))"
   ]
  },
  {
   "cell_type": "code",
   "execution_count": 10,
   "metadata": {},
   "outputs": [
    {
     "name": "stdout",
     "output_type": "stream",
     "text": [
      " chr [1:6706] \"-1-inch-thick\" \"-cook-and-drain\" \"-cooked-and-drained\" ...\n"
     ]
    }
   ],
   "source": [
    "ingred_freq_terms <- findFreqTerms(ingred_dtm_train)\n",
    "str(ingred_freq_terms)"
   ]
  },
  {
   "cell_type": "code",
   "execution_count": 26,
   "metadata": {},
   "outputs": [],
   "source": [
    "ingred_dtm_freq_train <- ingred_dtm_train[, ingred_freq_terms]\n",
    "ingred_dtm_freq_test <- ingred_dtm_test[, ingred_freq_terms]"
   ]
  },
  {
   "cell_type": "code",
   "execution_count": 8,
   "metadata": {},
   "outputs": [],
   "source": [
    "convert_counts <- function(x) {\n",
    "    x <- ifelse(x > 0, \"Yes\", \"No\")\n",
    "}"
   ]
  },
  {
   "cell_type": "code",
   "execution_count": 9,
   "metadata": {},
   "outputs": [],
   "source": [
    "ingred_train <- apply(ingred_dtm_train, MARGIN = 2, convert_counts)\n",
    "ingred_test <- apply(ingred_dtm_test, MARGIN = 2, convert_counts)"
   ]
  },
  {
   "cell_type": "code",
   "execution_count": 14,
   "metadata": {},
   "outputs": [
    {
     "name": "stderr",
     "output_type": "stream",
     "text": [
      "Warning message in system2(cmd0, args, env = env, stdout = outfile, stderr = outfile):\n",
      "“system call failed: Cannot allocate memory”Warning message in install.packages(\"e1071\", quiet = TRUE):\n",
      "“installation of package ‘e1071’ had non-zero exit status”"
     ]
    }
   ],
   "source": [
    "install.packages(\"e1071\", quiet = TRUE)"
   ]
  },
  {
   "cell_type": "code",
   "execution_count": 10,
   "metadata": {},
   "outputs": [],
   "source": [
    "library(\"e1071\")"
   ]
  },
  {
   "cell_type": "code",
   "execution_count": 11,
   "metadata": {},
   "outputs": [],
   "source": [
    "ingred_classifier <- naiveBayes(ingred_train, train_labels)"
   ]
  },
  {
   "cell_type": "code",
   "execution_count": 12,
   "metadata": {},
   "outputs": [
    {
     "ename": "ERROR",
     "evalue": "Error in `[.default`(object$tables[[v]], , nd + islogical[attribs[v]]): subscript out of bounds\n",
     "output_type": "error",
     "traceback": [
      "Error in `[.default`(object$tables[[v]], , nd + islogical[attribs[v]]): subscript out of bounds\nTraceback:\n",
      "1. predict(ingred_classifier, ingred_test)",
      "2. predict.naiveBayes(ingred_classifier, ingred_test)",
      "3. sapply(1:nrow(newdata), function(i) {\n .     ndata <- newdata[i, ]\n .     L <- log(object$apriori) + apply(log(sapply(seq_along(attribs), \n .         function(v) {\n .             nd <- ndata[attribs[v]]\n .             if (is.na(nd)) rep(1, length(object$apriori)) else {\n .                 prob <- if (isnumeric[attribs[v]]) {\n .                   msd <- object$tables[[v]]\n .                   msd[, 2][msd[, 2] <= eps] <- threshold\n .                   dnorm(nd, msd[, 1], msd[, 2])\n .                 } else object$tables[[v]][, nd + islogical[attribs[v]]]\n .                 prob[prob <= eps] <- threshold\n .                 prob\n .             }\n .         })), 1, sum)\n .     if (type == \"class\") \n .         L\n .     else {\n .         sapply(L, function(lp) {\n .             1/sum(exp(L - lp))\n .         })\n .     }\n . })",
      "4. lapply(X = X, FUN = FUN, ...)",
      "5. FUN(X[[i]], ...)",
      "6. apply(log(sapply(seq_along(attribs), function(v) {\n .     nd <- ndata[attribs[v]]\n .     if (is.na(nd)) rep(1, length(object$apriori)) else {\n .         prob <- if (isnumeric[attribs[v]]) {\n .             msd <- object$tables[[v]]\n .             msd[, 2][msd[, 2] <= eps] <- threshold\n .             dnorm(nd, msd[, 1], msd[, 2])\n .         } else object$tables[[v]][, nd + islogical[attribs[v]]]\n .         prob[prob <= eps] <- threshold\n .         prob\n .     }\n . })), 1, sum)",
      "7. sapply(seq_along(attribs), function(v) {\n .     nd <- ndata[attribs[v]]\n .     if (is.na(nd)) \n .         rep(1, length(object$apriori))\n .     else {\n .         prob <- if (isnumeric[attribs[v]]) {\n .             msd <- object$tables[[v]]\n .             msd[, 2][msd[, 2] <= eps] <- threshold\n .             dnorm(nd, msd[, 1], msd[, 2])\n .         }\n .         else object$tables[[v]][, nd + islogical[attribs[v]]]\n .         prob[prob <= eps] <- threshold\n .         prob\n .     }\n . })",
      "8. lapply(X = X, FUN = FUN, ...)",
      "9. FUN(X[[i]], ...)",
      "10. object$tables[[v]][, nd + islogical[attribs[v]]]",
      "11. `[.table`(object$tables[[v]], , nd + islogical[attribs[v]])",
      "12. NextMethod()"
     ]
    }
   ],
   "source": [
    "ingred_test_pred <- predict(ingred_classifier, ingred_test)"
   ]
  },
  {
   "cell_type": "code",
   "execution_count": null,
   "metadata": {},
   "outputs": [],
   "source": []
  }
 ],
 "metadata": {
  "kernelspec": {
   "display_name": "R",
   "language": "R",
   "name": "ir"
  },
  "language_info": {
   "codemirror_mode": "r",
   "file_extension": ".r",
   "mimetype": "text/x-r-source",
   "name": "R",
   "pygments_lexer": "r",
   "version": "3.4.2"
  }
 },
 "nbformat": 4,
 "nbformat_minor": 2
}
