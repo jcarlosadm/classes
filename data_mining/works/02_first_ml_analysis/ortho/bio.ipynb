{
 "cells": [
  {
   "cell_type": "markdown",
   "metadata": {},
   "source": [
    "# Biomechanical features of orthopedic patients\n",
    "<br>Classifying patients based on six features\n",
    "\n",
    "url: https://www.kaggle.com/uciml/biomechanical-features-of-orthopedic-patients/data\n",
    "\n",
    "Method to use: k-NN"
   ]
  },
  {
   "cell_type": "markdown",
   "metadata": {},
   "source": [
    "## Exploring the data"
   ]
  },
  {
   "cell_type": "code",
   "execution_count": 1,
   "metadata": {},
   "outputs": [
    {
     "name": "stdout",
     "output_type": "stream",
     "text": [
      "'data.frame':\t310 obs. of  7 variables:\n",
      " $ pelvic_incidence        : num  63 39.1 68.8 69.3 49.7 ...\n",
      " $ pelvic_tilt.numeric     : num  22.55 10.06 22.22 24.65 9.65 ...\n",
      " $ lumbar_lordosis_angle   : num  39.6 25 50.1 44.3 28.3 ...\n",
      " $ sacral_slope            : num  40.5 29 46.6 44.6 40.1 ...\n",
      " $ pelvic_radius           : num  98.7 114.4 106 101.9 108.2 ...\n",
      " $ degree_spondylolisthesis: num  -0.254 4.564 -3.53 11.212 7.919 ...\n",
      " $ class                   : chr  \"Abnormal\" \"Abnormal\" \"Abnormal\" \"Abnormal\" ...\n"
     ]
    }
   ],
   "source": [
    "# load data\n",
    "bio <- read.csv(\"data.csv\", stringsAsFactors = FALSE)\n",
    "\n",
    "str(bio)"
   ]
  },
  {
   "cell_type": "markdown",
   "metadata": {},
   "source": [
    "**Variable of interest**: class"
   ]
  },
  {
   "cell_type": "code",
   "execution_count": 2,
   "metadata": {},
   "outputs": [
    {
     "data": {
      "text/plain": [
       "\n",
       "Abnormal   Normal \n",
       "     210      100 "
      ]
     },
     "metadata": {},
     "output_type": "display_data"
    }
   ],
   "source": [
    "table(bio$class)"
   ]
  },
  {
   "cell_type": "markdown",
   "metadata": {},
   "source": [
    "check empty or missing values"
   ]
  },
  {
   "cell_type": "code",
   "execution_count": 3,
   "metadata": {},
   "outputs": [
    {
     "data": {
      "text/html": [
       "0"
      ],
      "text/latex": [
       "0"
      ],
      "text/markdown": [
       "0"
      ],
      "text/plain": [
       "[1] 0"
      ]
     },
     "metadata": {},
     "output_type": "display_data"
    },
    {
     "data": {
      "text/html": [
       "0"
      ],
      "text/latex": [
       "0"
      ],
      "text/markdown": [
       "0"
      ],
      "text/plain": [
       "[1] 0"
      ]
     },
     "metadata": {},
     "output_type": "display_data"
    },
    {
     "data": {
      "text/html": [
       "0"
      ],
      "text/latex": [
       "0"
      ],
      "text/markdown": [
       "0"
      ],
      "text/plain": [
       "[1] 0"
      ]
     },
     "metadata": {},
     "output_type": "display_data"
    }
   ],
   "source": [
    "# count empty cases\n",
    "sum(bio$class == \"\")\n",
    "# count na and nan values\n",
    "sum(is.na(bio$class))\n",
    "sum(is.nan(bio$class))"
   ]
  },
  {
   "cell_type": "markdown",
   "metadata": {},
   "source": [
    "Check the features range"
   ]
  },
  {
   "cell_type": "code",
   "execution_count": 4,
   "metadata": {},
   "outputs": [
    {
     "data": {
      "text/plain": [
       " pelvic_incidence pelvic_tilt.numeric lumbar_lordosis_angle  sacral_slope   \n",
       " Min.   : 26.15   Min.   :-6.555      Min.   : 14.00        Min.   : 13.37  \n",
       " 1st Qu.: 46.43   1st Qu.:10.667      1st Qu.: 37.00        1st Qu.: 33.35  \n",
       " Median : 58.69   Median :16.358      Median : 49.56        Median : 42.40  \n",
       " Mean   : 60.50   Mean   :17.543      Mean   : 51.93        Mean   : 42.95  \n",
       " 3rd Qu.: 72.88   3rd Qu.:22.120      3rd Qu.: 63.00        3rd Qu.: 52.70  \n",
       " Max.   :129.83   Max.   :49.432      Max.   :125.74        Max.   :121.43  \n",
       " pelvic_radius    degree_spondylolisthesis    class          \n",
       " Min.   : 70.08   Min.   :-11.058          Length:310        \n",
       " 1st Qu.:110.71   1st Qu.:  1.604          Class :character  \n",
       " Median :118.27   Median : 11.768          Mode  :character  \n",
       " Mean   :117.92   Mean   : 26.297                            \n",
       " 3rd Qu.:125.47   3rd Qu.: 41.287                            \n",
       " Max.   :163.07   Max.   :418.543                            "
      ]
     },
     "metadata": {},
     "output_type": "display_data"
    }
   ],
   "source": [
    "summary(bio)"
   ]
  },
  {
   "cell_type": "markdown",
   "metadata": {},
   "source": [
    "we need to normalize the features values."
   ]
  },
  {
   "cell_type": "code",
   "execution_count": 5,
   "metadata": {},
   "outputs": [],
   "source": [
    "normalize <- function(x) {\n",
    "    return ((x - min(x)) / (max(x) - min(x)))\n",
    "}"
   ]
  },
  {
   "cell_type": "code",
   "execution_count": 6,
   "metadata": {},
   "outputs": [],
   "source": [
    "bio_n <- as.data.frame(lapply(bio[1:6], normalize))"
   ]
  },
  {
   "cell_type": "code",
   "execution_count": 7,
   "metadata": {},
   "outputs": [
    {
     "data": {
      "text/plain": [
       " pelvic_incidence pelvic_tilt.numeric lumbar_lordosis_angle  sacral_slope   \n",
       " Min.   :0.0000   Min.   :0.0000      Min.   :0.0000        Min.   :0.0000  \n",
       " 1st Qu.:0.1956   1st Qu.:0.3076      1st Qu.:0.2058        1st Qu.:0.1849  \n",
       " Median :0.3139   Median :0.4093      Median :0.3183        Median :0.2687  \n",
       " Mean   :0.3313   Mean   :0.4304      Mean   :0.3394        Mean   :0.2738  \n",
       " 3rd Qu.:0.4507   3rd Qu.:0.5122      3rd Qu.:0.4385        3rd Qu.:0.3639  \n",
       " Max.   :1.0000   Max.   :1.0000      Max.   :1.0000        Max.   :1.0000  \n",
       " pelvic_radius    degree_spondylolisthesis\n",
       " Min.   :0.0000   Min.   :0.00000         \n",
       " 1st Qu.:0.4369   1st Qu.:0.02947         \n",
       " Median :0.5182   Median :0.05313         \n",
       " Mean   :0.5145   Mean   :0.08695         \n",
       " 3rd Qu.:0.5956   3rd Qu.:0.12185         \n",
       " Max.   :1.0000   Max.   :1.00000         "
      ]
     },
     "metadata": {},
     "output_type": "display_data"
    }
   ],
   "source": [
    "summary(bio_n)"
   ]
  },
  {
   "cell_type": "markdown",
   "metadata": {},
   "source": [
    "## Creating training and test datasets"
   ]
  },
  {
   "cell_type": "code",
   "execution_count": 8,
   "metadata": {},
   "outputs": [],
   "source": [
    "# see https://stackoverflow.com/a/17200430\n",
    "\n",
    "smp_size <- floor(0.75 * nrow(bio_n))\n",
    "\n",
    "set.seed(123)\n",
    "train_ind <- sample(seq_len(nrow(bio_n)), size = smp_size)\n",
    "\n",
    "bio_train <- bio_n[train_ind, ]\n",
    "bio_test <- bio_n[-train_ind, ]"
   ]
  },
  {
   "cell_type": "markdown",
   "metadata": {},
   "source": [
    "Get labels"
   ]
  },
  {
   "cell_type": "code",
   "execution_count": 9,
   "metadata": {},
   "outputs": [],
   "source": [
    "bio_train_labels <- bio[train_ind, c(\"class\")]\n",
    "\n",
    "bio_test_labels <- bio[-train_ind, c(\"class\")]"
   ]
  },
  {
   "cell_type": "markdown",
   "metadata": {},
   "source": [
    "## Training a model on the data"
   ]
  },
  {
   "cell_type": "code",
   "execution_count": 10,
   "metadata": {},
   "outputs": [],
   "source": [
    "install.packages(\"class\", quiet = TRUE)"
   ]
  },
  {
   "cell_type": "code",
   "execution_count": 11,
   "metadata": {},
   "outputs": [],
   "source": [
    "library(\"class\", quietly = TRUE)"
   ]
  },
  {
   "cell_type": "code",
   "execution_count": 12,
   "metadata": {},
   "outputs": [],
   "source": [
    "bio_test_pred <- knn(train = bio_train, test = bio_test, cl = bio_train_labels, k = 21)"
   ]
  },
  {
   "cell_type": "markdown",
   "metadata": {},
   "source": [
    "## Evaluating model performance"
   ]
  },
  {
   "cell_type": "code",
   "execution_count": 13,
   "metadata": {},
   "outputs": [],
   "source": [
    "install.packages(\"gmodels\", quiet = TRUE)"
   ]
  },
  {
   "cell_type": "code",
   "execution_count": 14,
   "metadata": {},
   "outputs": [],
   "source": [
    "library(\"gmodels\", quietly = TRUE)"
   ]
  },
  {
   "cell_type": "code",
   "execution_count": 15,
   "metadata": {},
   "outputs": [
    {
     "name": "stdout",
     "output_type": "stream",
     "text": [
      "\n",
      " \n",
      "   Cell Contents\n",
      "|-------------------------|\n",
      "|                       N |\n",
      "|           N / Row Total |\n",
      "|           N / Col Total |\n",
      "|         N / Table Total |\n",
      "|-------------------------|\n",
      "\n",
      " \n",
      "Total Observations in Table:  78 \n",
      "\n",
      " \n",
      "                | bio_test_pred \n",
      "bio_test_labels |  Abnormal |    Normal | Row Total | \n",
      "----------------|-----------|-----------|-----------|\n",
      "       Abnormal |        40 |        12 |        52 | \n",
      "                |     0.769 |     0.231 |     0.667 | \n",
      "                |     0.909 |     0.353 |           | \n",
      "                |     0.513 |     0.154 |           | \n",
      "----------------|-----------|-----------|-----------|\n",
      "         Normal |         4 |        22 |        26 | \n",
      "                |     0.154 |     0.846 |     0.333 | \n",
      "                |     0.091 |     0.647 |           | \n",
      "                |     0.051 |     0.282 |           | \n",
      "----------------|-----------|-----------|-----------|\n",
      "   Column Total |        44 |        34 |        78 | \n",
      "                |     0.564 |     0.436 |           | \n",
      "----------------|-----------|-----------|-----------|\n",
      "\n",
      " \n"
     ]
    }
   ],
   "source": [
    "CrossTable(x = bio_test_labels, y = bio_test_pred, prop.chisq = FALSE)"
   ]
  },
  {
   "cell_type": "markdown",
   "metadata": {},
   "source": [
    "## Improving"
   ]
  },
  {
   "cell_type": "markdown",
   "metadata": {},
   "source": [
    "### Transformation"
   ]
  },
  {
   "cell_type": "code",
   "execution_count": 16,
   "metadata": {},
   "outputs": [],
   "source": [
    "bio_z <- as.data.frame(scale(bio[-7]))"
   ]
  },
  {
   "cell_type": "code",
   "execution_count": 17,
   "metadata": {},
   "outputs": [
    {
     "data": {
      "text/plain": [
       " pelvic_incidence  pelvic_tilt.numeric lumbar_lordosis_angle  sacral_slope     \n",
       " Min.   :-1.9928   Min.   :-2.4078     Min.   :-2.0443       Min.   :-2.20418  \n",
       " 1st Qu.:-0.8161   1st Qu.:-0.6870     1st Qu.:-0.8047       1st Qu.:-0.71569  \n",
       " Median :-0.1048   Median :-0.1184     Median :-0.1277       Median :-0.04089  \n",
       " Mean   : 0.0000   Mean   : 0.0000     Mean   : 0.0000       Mean   : 0.00000  \n",
       " 3rd Qu.: 0.7183   3rd Qu.: 0.4574     3rd Qu.: 0.5966       3rd Qu.: 0.72577  \n",
       " Max.   : 4.0227   Max.   : 3.1862     Max.   : 3.9782       Max.   : 5.84632  \n",
       " pelvic_radius     degree_spondylolisthesis\n",
       " Min.   :-3.5922   Min.   :-0.9946         \n",
       " 1st Qu.:-0.5415   1st Qu.:-0.6574         \n",
       " Median : 0.0261   Median :-0.3868         \n",
       " Mean   : 0.0000   Mean   : 0.0000         \n",
       " 3rd Qu.: 0.5667   3rd Qu.: 0.3991         \n",
       " Max.   : 3.3903   Max.   :10.4435         "
      ]
     },
     "metadata": {},
     "output_type": "display_data"
    }
   ],
   "source": [
    "summary(bio_z)"
   ]
  },
  {
   "cell_type": "code",
   "execution_count": 18,
   "metadata": {},
   "outputs": [
    {
     "name": "stdout",
     "output_type": "stream",
     "text": [
      "\n",
      " \n",
      "   Cell Contents\n",
      "|-------------------------|\n",
      "|                       N |\n",
      "|           N / Row Total |\n",
      "|           N / Col Total |\n",
      "|         N / Table Total |\n",
      "|-------------------------|\n",
      "\n",
      " \n",
      "Total Observations in Table:  78 \n",
      "\n",
      " \n",
      "                  | bio_test_pred_z \n",
      "bio_test_labels_z |  Abnormal |    Normal | Row Total | \n",
      "------------------|-----------|-----------|-----------|\n",
      "         Abnormal |        40 |        12 |        52 | \n",
      "                  |     0.769 |     0.231 |     0.667 | \n",
      "                  |     0.909 |     0.353 |           | \n",
      "                  |     0.513 |     0.154 |           | \n",
      "------------------|-----------|-----------|-----------|\n",
      "           Normal |         4 |        22 |        26 | \n",
      "                  |     0.154 |     0.846 |     0.333 | \n",
      "                  |     0.091 |     0.647 |           | \n",
      "                  |     0.051 |     0.282 |           | \n",
      "------------------|-----------|-----------|-----------|\n",
      "     Column Total |        44 |        34 |        78 | \n",
      "                  |     0.564 |     0.436 |           | \n",
      "------------------|-----------|-----------|-----------|\n",
      "\n",
      " \n"
     ]
    }
   ],
   "source": [
    "bio_train_z <- bio_z[train_ind, ]\n",
    "bio_test_z <- bio_z[-train_ind, ]\n",
    "\n",
    "bio_train_labels_z <- bio[train_ind, 7]\n",
    "bio_test_labels_z <- bio[-train_ind, 7]\n",
    "\n",
    "bio_test_pred_z <- knn(train = bio_train_z, test = bio_test_z, cl = bio_train_labels_z, k = 21)\n",
    "CrossTable(x = bio_test_labels_z, y = bio_test_pred_z, prop.chisq = FALSE)"
   ]
  },
  {
   "cell_type": "markdown",
   "metadata": {},
   "source": [
    "### Alternative values of k"
   ]
  },
  {
   "cell_type": "code",
   "execution_count": 22,
   "metadata": {},
   "outputs": [],
   "source": [
    "run_tests <- function(k_value) {\n",
    "    print(k_value)\n",
    "    bio_test_pred <- knn(train = bio_train, test = bio_test, cl = bio_train_labels, k = k_value)\n",
    "    CrossTable(x = bio_test_labels, y = bio_test_pred, prop.chisq = FALSE)\n",
    "}"
   ]
  },
  {
   "cell_type": "code",
   "execution_count": 23,
   "metadata": {},
   "outputs": [
    {
     "name": "stdout",
     "output_type": "stream",
     "text": [
      "[1] 1\n",
      "\n",
      " \n",
      "   Cell Contents\n",
      "|-------------------------|\n",
      "|                       N |\n",
      "|           N / Row Total |\n",
      "|           N / Col Total |\n",
      "|         N / Table Total |\n",
      "|-------------------------|\n",
      "\n",
      " \n",
      "Total Observations in Table:  78 \n",
      "\n",
      " \n",
      "                | bio_test_pred \n",
      "bio_test_labels |  Abnormal |    Normal | Row Total | \n",
      "----------------|-----------|-----------|-----------|\n",
      "       Abnormal |        44 |         8 |        52 | \n",
      "                |     0.846 |     0.154 |     0.667 | \n",
      "                |     0.898 |     0.276 |           | \n",
      "                |     0.564 |     0.103 |           | \n",
      "----------------|-----------|-----------|-----------|\n",
      "         Normal |         5 |        21 |        26 | \n",
      "                |     0.192 |     0.808 |     0.333 | \n",
      "                |     0.102 |     0.724 |           | \n",
      "                |     0.064 |     0.269 |           | \n",
      "----------------|-----------|-----------|-----------|\n",
      "   Column Total |        49 |        29 |        78 | \n",
      "                |     0.628 |     0.372 |           | \n",
      "----------------|-----------|-----------|-----------|\n",
      "\n",
      " \n",
      "[1] 5\n",
      "\n",
      " \n",
      "   Cell Contents\n",
      "|-------------------------|\n",
      "|                       N |\n",
      "|           N / Row Total |\n",
      "|           N / Col Total |\n",
      "|         N / Table Total |\n",
      "|-------------------------|\n",
      "\n",
      " \n",
      "Total Observations in Table:  78 \n",
      "\n",
      " \n",
      "                | bio_test_pred \n",
      "bio_test_labels |  Abnormal |    Normal | Row Total | \n",
      "----------------|-----------|-----------|-----------|\n",
      "       Abnormal |        43 |         9 |        52 | \n",
      "                |     0.827 |     0.173 |     0.667 | \n",
      "                |     0.878 |     0.310 |           | \n",
      "                |     0.551 |     0.115 |           | \n",
      "----------------|-----------|-----------|-----------|\n",
      "         Normal |         6 |        20 |        26 | \n",
      "                |     0.231 |     0.769 |     0.333 | \n",
      "                |     0.122 |     0.690 |           | \n",
      "                |     0.077 |     0.256 |           | \n",
      "----------------|-----------|-----------|-----------|\n",
      "   Column Total |        49 |        29 |        78 | \n",
      "                |     0.628 |     0.372 |           | \n",
      "----------------|-----------|-----------|-----------|\n",
      "\n",
      " \n",
      "[1] 11\n",
      "\n",
      " \n",
      "   Cell Contents\n",
      "|-------------------------|\n",
      "|                       N |\n",
      "|           N / Row Total |\n",
      "|           N / Col Total |\n",
      "|         N / Table Total |\n",
      "|-------------------------|\n",
      "\n",
      " \n",
      "Total Observations in Table:  78 \n",
      "\n",
      " \n",
      "                | bio_test_pred \n",
      "bio_test_labels |  Abnormal |    Normal | Row Total | \n",
      "----------------|-----------|-----------|-----------|\n",
      "       Abnormal |        41 |        11 |        52 | \n",
      "                |     0.788 |     0.212 |     0.667 | \n",
      "                |     0.872 |     0.355 |           | \n",
      "                |     0.526 |     0.141 |           | \n",
      "----------------|-----------|-----------|-----------|\n",
      "         Normal |         6 |        20 |        26 | \n",
      "                |     0.231 |     0.769 |     0.333 | \n",
      "                |     0.128 |     0.645 |           | \n",
      "                |     0.077 |     0.256 |           | \n",
      "----------------|-----------|-----------|-----------|\n",
      "   Column Total |        47 |        31 |        78 | \n",
      "                |     0.603 |     0.397 |           | \n",
      "----------------|-----------|-----------|-----------|\n",
      "\n",
      " \n",
      "[1] 15\n",
      "\n",
      " \n",
      "   Cell Contents\n",
      "|-------------------------|\n",
      "|                       N |\n",
      "|           N / Row Total |\n",
      "|           N / Col Total |\n",
      "|         N / Table Total |\n",
      "|-------------------------|\n",
      "\n",
      " \n",
      "Total Observations in Table:  78 \n",
      "\n",
      " \n",
      "                | bio_test_pred \n",
      "bio_test_labels |  Abnormal |    Normal | Row Total | \n",
      "----------------|-----------|-----------|-----------|\n",
      "       Abnormal |        41 |        11 |        52 | \n",
      "                |     0.788 |     0.212 |     0.667 | \n",
      "                |     0.891 |     0.344 |           | \n",
      "                |     0.526 |     0.141 |           | \n",
      "----------------|-----------|-----------|-----------|\n",
      "         Normal |         5 |        21 |        26 | \n",
      "                |     0.192 |     0.808 |     0.333 | \n",
      "                |     0.109 |     0.656 |           | \n",
      "                |     0.064 |     0.269 |           | \n",
      "----------------|-----------|-----------|-----------|\n",
      "   Column Total |        46 |        32 |        78 | \n",
      "                |     0.590 |     0.410 |           | \n",
      "----------------|-----------|-----------|-----------|\n",
      "\n",
      " \n",
      "[1] 21\n",
      "\n",
      " \n",
      "   Cell Contents\n",
      "|-------------------------|\n",
      "|                       N |\n",
      "|           N / Row Total |\n",
      "|           N / Col Total |\n",
      "|         N / Table Total |\n",
      "|-------------------------|\n",
      "\n",
      " \n",
      "Total Observations in Table:  78 \n",
      "\n",
      " \n",
      "                | bio_test_pred \n",
      "bio_test_labels |  Abnormal |    Normal | Row Total | \n",
      "----------------|-----------|-----------|-----------|\n",
      "       Abnormal |        40 |        12 |        52 | \n",
      "                |     0.769 |     0.231 |     0.667 | \n",
      "                |     0.909 |     0.353 |           | \n",
      "                |     0.513 |     0.154 |           | \n",
      "----------------|-----------|-----------|-----------|\n",
      "         Normal |         4 |        22 |        26 | \n",
      "                |     0.154 |     0.846 |     0.333 | \n",
      "                |     0.091 |     0.647 |           | \n",
      "                |     0.051 |     0.282 |           | \n",
      "----------------|-----------|-----------|-----------|\n",
      "   Column Total |        44 |        34 |        78 | \n",
      "                |     0.564 |     0.436 |           | \n",
      "----------------|-----------|-----------|-----------|\n",
      "\n",
      " \n",
      "[1] 27\n",
      "\n",
      " \n",
      "   Cell Contents\n",
      "|-------------------------|\n",
      "|                       N |\n",
      "|           N / Row Total |\n",
      "|           N / Col Total |\n",
      "|         N / Table Total |\n",
      "|-------------------------|\n",
      "\n",
      " \n",
      "Total Observations in Table:  78 \n",
      "\n",
      " \n",
      "                | bio_test_pred \n",
      "bio_test_labels |  Abnormal |    Normal | Row Total | \n",
      "----------------|-----------|-----------|-----------|\n",
      "       Abnormal |        41 |        11 |        52 | \n",
      "                |     0.788 |     0.212 |     0.667 | \n",
      "                |     0.891 |     0.344 |           | \n",
      "                |     0.526 |     0.141 |           | \n",
      "----------------|-----------|-----------|-----------|\n",
      "         Normal |         5 |        21 |        26 | \n",
      "                |     0.192 |     0.808 |     0.333 | \n",
      "                |     0.109 |     0.656 |           | \n",
      "                |     0.064 |     0.269 |           | \n",
      "----------------|-----------|-----------|-----------|\n",
      "   Column Total |        46 |        32 |        78 | \n",
      "                |     0.590 |     0.410 |           | \n",
      "----------------|-----------|-----------|-----------|\n",
      "\n",
      " \n"
     ]
    }
   ],
   "source": [
    "run_tests(1)\n",
    "run_tests(5)\n",
    "run_tests(11)\n",
    "run_tests(15)\n",
    "run_tests(21)\n",
    "run_tests(27)"
   ]
  },
  {
   "cell_type": "markdown",
   "metadata": {},
   "source": [
    "## Evaluation"
   ]
  },
  {
   "cell_type": "markdown",
   "metadata": {},
   "source": [
    "For k = 1\n",
    "\n",
    "Precision = 44/52 = 0.8462\n",
    "\n",
    "Recall = 44/49 = 0.898\n",
    "\n",
    "F = 2.(0.8462 x 0.898)/(0.8462 + 0.898) = 0.8713\n",
    "\n",
    "Markedness = 0.8462 + (21/26) - 1 = 0.6539\n",
    "\n",
    "Informedness = 0.898 + (21/29) - 1 = 0.6221\n",
    "\n",
    "\n",
    "...\n",
    "\n",
    "\n",
    "For k = 1, the knn predicts correctly approximately 83% of cases. "
   ]
  }
 ],
 "metadata": {
  "kernelspec": {
   "display_name": "R",
   "language": "R",
   "name": "ir"
  },
  "language_info": {
   "codemirror_mode": "r",
   "file_extension": ".r",
   "mimetype": "text/x-r-source",
   "name": "R",
   "pygments_lexer": "r",
   "version": "3.2.3"
  }
 },
 "nbformat": 4,
 "nbformat_minor": 2
}
