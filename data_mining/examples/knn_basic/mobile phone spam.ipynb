{
 "cells": [
  {
   "cell_type": "markdown",
   "metadata": {},
   "source": [
    "book: Machine Learning with R, second edition. Brett Lantz. packt. Chapter 4."
   ]
  },
  {
   "cell_type": "markdown",
   "metadata": {},
   "source": [
    "## Data"
   ]
  },
  {
   "cell_type": "code",
   "execution_count": 2,
   "metadata": {},
   "outputs": [
    {
     "name": "stdout",
     "output_type": "stream",
     "text": [
      "'data.frame':\t5559 obs. of  2 variables:\n",
      " $ type: chr  \"ham\" \"ham\" \"ham\" \"spam\" ...\n",
      " $ text: chr  \"Hope you are having a good week. Just checking in\" \"K..give back my thanks.\" \"Am also doing in cbe only. But have to pay.\" \"complimentary 4 STAR Ibiza Holiday or £10,000 cash needs your URGENT collection. 09066364349 NOW from Landline \"| __truncated__ ...\n"
     ]
    }
   ],
   "source": [
    "sms_raw <- read.csv(\"sms_spam.csv\", stringsAsFactors = FALSE)\n",
    "str(sms_raw)"
   ]
  },
  {
   "cell_type": "markdown",
   "metadata": {},
   "source": [
    "convert **type** to *factor*:"
   ]
  },
  {
   "cell_type": "code",
   "execution_count": 4,
   "metadata": {},
   "outputs": [
    {
     "name": "stdout",
     "output_type": "stream",
     "text": [
      " Factor w/ 2 levels \"ham\",\"spam\": 1 1 1 2 2 1 1 1 2 1 ...\n"
     ]
    },
    {
     "data": {
      "text/plain": [
       "\n",
       " ham spam \n",
       "4812  747 "
      ]
     },
     "metadata": {},
     "output_type": "display_data"
    }
   ],
   "source": [
    "sms_raw$type <- factor(sms_raw$type)\n",
    "str(sms_raw$type)\n",
    "table(sms_raw$type)"
   ]
  },
  {
   "cell_type": "markdown",
   "metadata": {},
   "source": [
    "## Cleaning and standardizing text data\n",
    "\n",
    "install and load the *tm* package:"
   ]
  },
  {
   "cell_type": "code",
   "execution_count": 6,
   "metadata": {},
   "outputs": [],
   "source": [
    "install.packages(\"tm\", quiet = TRUE)"
   ]
  },
  {
   "cell_type": "code",
   "execution_count": 8,
   "metadata": {},
   "outputs": [],
   "source": [
    "library(\"tm\")"
   ]
  },
  {
   "cell_type": "markdown",
   "metadata": {},
   "source": [
    "Create a volatile corpus (corpus: collection of text documents) from `text` field:"
   ]
  },
  {
   "cell_type": "code",
   "execution_count": 10,
   "metadata": {},
   "outputs": [
    {
     "name": "stdout",
     "output_type": "stream",
     "text": [
      "<<VCorpus>>\n",
      "Metadata:  corpus specific: 0, document level (indexed): 0\n",
      "Content:  documents: 5559\n"
     ]
    }
   ],
   "source": [
    "sms_corpus <- VCorpus(VectorSource(sms_raw$text))\n",
    "print(sms_corpus)"
   ]
  },
  {
   "cell_type": "markdown",
   "metadata": {},
   "source": [
    "Examples of extracting information from corpus:"
   ]
  },
  {
   "cell_type": "code",
   "execution_count": 11,
   "metadata": {},
   "outputs": [
    {
     "name": "stdout",
     "output_type": "stream",
     "text": [
      "<<VCorpus>>\n",
      "Metadata:  corpus specific: 0, document level (indexed): 0\n",
      "Content:  documents: 2\n",
      "\n",
      "[[1]]\n",
      "<<PlainTextDocument>>\n",
      "Metadata:  7\n",
      "Content:  chars: 49\n",
      "\n",
      "[[2]]\n",
      "<<PlainTextDocument>>\n",
      "Metadata:  7\n",
      "Content:  chars: 23\n",
      "\n"
     ]
    },
    {
     "data": {
      "text/html": [
       "'Hope you are having a good week. Just checking in'"
      ],
      "text/latex": [
       "'Hope you are having a good week. Just checking in'"
      ],
      "text/markdown": [
       "'Hope you are having a good week. Just checking in'"
      ],
      "text/plain": [
       "[1] \"Hope you are having a good week. Just checking in\""
      ]
     },
     "metadata": {},
     "output_type": "display_data"
    }
   ],
   "source": [
    "inspect(sms_corpus[1:2])\n",
    "as.character(sms_corpus[[1]])"
   ]
  },
  {
   "cell_type": "markdown",
   "metadata": {},
   "source": [
    "Using `lapply()` in several elements:"
   ]
  },
  {
   "cell_type": "code",
   "execution_count": 12,
   "metadata": {},
   "outputs": [
    {
     "data": {
      "text/html": [
       "<dl>\n",
       "\t<dt>$`1`</dt>\n",
       "\t\t<dd>'Hope you are having a good week. Just checking in'</dd>\n",
       "\t<dt>$`2`</dt>\n",
       "\t\t<dd>'K..give back my thanks.'</dd>\n",
       "</dl>\n"
      ],
      "text/latex": [
       "\\begin{description}\n",
       "\\item[\\$`1`] 'Hope you are having a good week. Just checking in'\n",
       "\\item[\\$`2`] 'K..give back my thanks.'\n",
       "\\end{description}\n"
      ],
      "text/markdown": [
       "$`1`\n",
       ":   'Hope you are having a good week. Just checking in'\n",
       "$`2`\n",
       ":   'K..give back my thanks.'\n",
       "\n",
       "\n"
      ],
      "text/plain": [
       "$`1`\n",
       "[1] \"Hope you are having a good week. Just checking in\"\n",
       "\n",
       "$`2`\n",
       "[1] \"K..give back my thanks.\"\n"
      ]
     },
     "metadata": {},
     "output_type": "display_data"
    }
   ],
   "source": [
    "lapply(sms_corpus[1:2], as.character)"
   ]
  },
  {
   "cell_type": "markdown",
   "metadata": {},
   "source": [
    "convert all text to lowercase characters."
   ]
  },
  {
   "cell_type": "code",
   "execution_count": 15,
   "metadata": {},
   "outputs": [],
   "source": [
    "sms_corpus_clean <- tm_map(sms_corpus, content_transformer(tolower))"
   ]
  },
  {
   "cell_type": "code",
   "execution_count": 16,
   "metadata": {},
   "outputs": [
    {
     "data": {
      "text/html": [
       "'Hope you are having a good week. Just checking in'"
      ],
      "text/latex": [
       "'Hope you are having a good week. Just checking in'"
      ],
      "text/markdown": [
       "'Hope you are having a good week. Just checking in'"
      ],
      "text/plain": [
       "[1] \"Hope you are having a good week. Just checking in\""
      ]
     },
     "metadata": {},
     "output_type": "display_data"
    },
    {
     "data": {
      "text/html": [
       "'hope you are having a good week. just checking in'"
      ],
      "text/latex": [
       "'hope you are having a good week. just checking in'"
      ],
      "text/markdown": [
       "'hope you are having a good week. just checking in'"
      ],
      "text/plain": [
       "[1] \"hope you are having a good week. just checking in\""
      ]
     },
     "metadata": {},
     "output_type": "display_data"
    }
   ],
   "source": [
    "as.character(sms_corpus[[1]])\n",
    "as.character(sms_corpus_clean[[1]])"
   ]
  },
  {
   "cell_type": "markdown",
   "metadata": {},
   "source": [
    "Remove numbers"
   ]
  },
  {
   "cell_type": "code",
   "execution_count": 18,
   "metadata": {},
   "outputs": [],
   "source": [
    "sms_corpus_clean <- tm_map(sms_corpus_clean, removeNumbers)"
   ]
  },
  {
   "cell_type": "code",
   "execution_count": 23,
   "metadata": {},
   "outputs": [
    {
     "data": {
      "text/html": [
       "'complimentary 4 STAR Ibiza Holiday or £10,000 cash needs your URGENT collection. 09066364349 NOW from Landline not to lose out! Box434SK38WP150PPM18+'"
      ],
      "text/latex": [
       "'complimentary 4 STAR Ibiza Holiday or £10,000 cash needs your URGENT collection. 09066364349 NOW from Landline not to lose out! Box434SK38WP150PPM18+'"
      ],
      "text/markdown": [
       "'complimentary 4 STAR Ibiza Holiday or £10,000 cash needs your URGENT collection. 09066364349 NOW from Landline not to lose out! Box434SK38WP150PPM18+'"
      ],
      "text/plain": [
       "[1] \"complimentary 4 STAR Ibiza Holiday or £10,000 cash needs your URGENT collection. 09066364349 NOW from Landline not to lose out! Box434SK38WP150PPM18+\""
      ]
     },
     "metadata": {},
     "output_type": "display_data"
    },
    {
     "data": {
      "text/html": [
       "<span style=white-space:pre-wrap>'complimentary  star ibiza holiday or £, cash needs your urgent collection.  now from landline not to lose out! boxskwpppm+'</span>"
      ],
      "text/latex": [
       "'complimentary  star ibiza holiday or £, cash needs your urgent collection.  now from landline not to lose out! boxskwpppm+'"
      ],
      "text/markdown": [
       "<span style=white-space:pre-wrap>'complimentary  star ibiza holiday or £, cash needs your urgent collection.  now from landline not to lose out! boxskwpppm+'</span>"
      ],
      "text/plain": [
       "[1] \"complimentary  star ibiza holiday or £, cash needs your urgent collection.  now from landline not to lose out! boxskwpppm+\""
      ]
     },
     "metadata": {},
     "output_type": "display_data"
    }
   ],
   "source": [
    "as.character(sms_corpus[[4]])\n",
    "as.character(sms_corpus_clean[[4]])"
   ]
  },
  {
   "cell_type": "markdown",
   "metadata": {},
   "source": [
    "Remove filler words such as to, and, but, or..."
   ]
  },
  {
   "cell_type": "code",
   "execution_count": 24,
   "metadata": {},
   "outputs": [],
   "source": [
    "sms_corpus_clean <- tm_map(sms_corpus_clean, removeWords, stopwords())"
   ]
  },
  {
   "cell_type": "code",
   "execution_count": 25,
   "metadata": {},
   "outputs": [
    {
     "data": {
      "text/html": [
       "'complimentary 4 STAR Ibiza Holiday or £10,000 cash needs your URGENT collection. 09066364349 NOW from Landline not to lose out! Box434SK38WP150PPM18+'"
      ],
      "text/latex": [
       "'complimentary 4 STAR Ibiza Holiday or £10,000 cash needs your URGENT collection. 09066364349 NOW from Landline not to lose out! Box434SK38WP150PPM18+'"
      ],
      "text/markdown": [
       "'complimentary 4 STAR Ibiza Holiday or £10,000 cash needs your URGENT collection. 09066364349 NOW from Landline not to lose out! Box434SK38WP150PPM18+'"
      ],
      "text/plain": [
       "[1] \"complimentary 4 STAR Ibiza Holiday or £10,000 cash needs your URGENT collection. 09066364349 NOW from Landline not to lose out! Box434SK38WP150PPM18+\""
      ]
     },
     "metadata": {},
     "output_type": "display_data"
    },
    {
     "data": {
      "text/html": [
       "<span style=white-space:pre-wrap>'complimentary  star ibiza holiday  £, cash needs  urgent collection.  now  landline   lose ! boxskwpppm+'</span>"
      ],
      "text/latex": [
       "'complimentary  star ibiza holiday  £, cash needs  urgent collection.  now  landline   lose ! boxskwpppm+'"
      ],
      "text/markdown": [
       "<span style=white-space:pre-wrap>'complimentary  star ibiza holiday  £, cash needs  urgent collection.  now  landline   lose ! boxskwpppm+'</span>"
      ],
      "text/plain": [
       "[1] \"complimentary  star ibiza holiday  £, cash needs  urgent collection.  now  landline   lose ! boxskwpppm+\""
      ]
     },
     "metadata": {},
     "output_type": "display_data"
    }
   ],
   "source": [
    "as.character(sms_corpus[[4]])\n",
    "as.character(sms_corpus_clean[[4]])"
   ]
  },
  {
   "cell_type": "markdown",
   "metadata": {},
   "source": [
    "Remove punctuation:"
   ]
  },
  {
   "cell_type": "code",
   "execution_count": 26,
   "metadata": {},
   "outputs": [],
   "source": [
    "sms_corpus_clean <- tm_map(sms_corpus_clean, removePunctuation)"
   ]
  },
  {
   "cell_type": "code",
   "execution_count": 27,
   "metadata": {},
   "outputs": [
    {
     "data": {
      "text/html": [
       "'complimentary 4 STAR Ibiza Holiday or £10,000 cash needs your URGENT collection. 09066364349 NOW from Landline not to lose out! Box434SK38WP150PPM18+'"
      ],
      "text/latex": [
       "'complimentary 4 STAR Ibiza Holiday or £10,000 cash needs your URGENT collection. 09066364349 NOW from Landline not to lose out! Box434SK38WP150PPM18+'"
      ],
      "text/markdown": [
       "'complimentary 4 STAR Ibiza Holiday or £10,000 cash needs your URGENT collection. 09066364349 NOW from Landline not to lose out! Box434SK38WP150PPM18+'"
      ],
      "text/plain": [
       "[1] \"complimentary 4 STAR Ibiza Holiday or £10,000 cash needs your URGENT collection. 09066364349 NOW from Landline not to lose out! Box434SK38WP150PPM18+\""
      ]
     },
     "metadata": {},
     "output_type": "display_data"
    },
    {
     "data": {
      "text/html": [
       "<span style=white-space:pre-wrap>'complimentary  star ibiza holiday  £ cash needs  urgent collection  now  landline   lose  boxskwpppm'</span>"
      ],
      "text/latex": [
       "'complimentary  star ibiza holiday  £ cash needs  urgent collection  now  landline   lose  boxskwpppm'"
      ],
      "text/markdown": [
       "<span style=white-space:pre-wrap>'complimentary  star ibiza holiday  £ cash needs  urgent collection  now  landline   lose  boxskwpppm'</span>"
      ],
      "text/plain": [
       "[1] \"complimentary  star ibiza holiday  £ cash needs  urgent collection  now  landline   lose  boxskwpppm\""
      ]
     },
     "metadata": {},
     "output_type": "display_data"
    }
   ],
   "source": [
    "as.character(sms_corpus[[4]])\n",
    "as.character(sms_corpus_clean[[4]])"
   ]
  },
  {
   "cell_type": "markdown",
   "metadata": {},
   "source": [
    "Install *SnowballC* package, to use stemming:"
   ]
  },
  {
   "cell_type": "code",
   "execution_count": 29,
   "metadata": {},
   "outputs": [],
   "source": [
    "install.packages('SnowballC', quiet = TRUE)"
   ]
  },
  {
   "cell_type": "code",
   "execution_count": 31,
   "metadata": {},
   "outputs": [
    {
     "data": {
      "text/html": [
       "<ol class=list-inline>\n",
       "\t<li>'learn'</li>\n",
       "\t<li>'learn'</li>\n",
       "\t<li>'learn'</li>\n",
       "\t<li>'learn'</li>\n",
       "</ol>\n"
      ],
      "text/latex": [
       "\\begin{enumerate*}\n",
       "\\item 'learn'\n",
       "\\item 'learn'\n",
       "\\item 'learn'\n",
       "\\item 'learn'\n",
       "\\end{enumerate*}\n"
      ],
      "text/markdown": [
       "1. 'learn'\n",
       "2. 'learn'\n",
       "3. 'learn'\n",
       "4. 'learn'\n",
       "\n",
       "\n"
      ],
      "text/plain": [
       "[1] \"learn\" \"learn\" \"learn\" \"learn\""
      ]
     },
     "metadata": {},
     "output_type": "display_data"
    }
   ],
   "source": [
    "library(\"SnowballC\")\n",
    "wordStem(c(\"learn\", \"learned\", \"learning\", \"learns\"))"
   ]
  },
  {
   "cell_type": "markdown",
   "metadata": {},
   "source": [
    "Using stemming in our data:"
   ]
  },
  {
   "cell_type": "code",
   "execution_count": 32,
   "metadata": {},
   "outputs": [],
   "source": [
    "sms_corpus_clean <- tm_map(sms_corpus_clean, stemDocument)"
   ]
  },
  {
   "cell_type": "markdown",
   "metadata": {},
   "source": [
    "Now, we need to remove extra withspaces:"
   ]
  },
  {
   "cell_type": "code",
   "execution_count": 34,
   "metadata": {},
   "outputs": [
    {
     "data": {
      "text/html": [
       "<dl>\n",
       "\t<dt>$`1`</dt>\n",
       "\t\t<dd>'Hope you are having a good week. Just checking in'</dd>\n",
       "\t<dt>$`2`</dt>\n",
       "\t\t<dd>'K..give back my thanks.'</dd>\n",
       "\t<dt>$`3`</dt>\n",
       "\t\t<dd>'Am also doing in cbe only. But have to pay.'</dd>\n",
       "\t<dt>$`4`</dt>\n",
       "\t\t<dd>'complimentary 4 STAR Ibiza Holiday or £10,000 cash needs your URGENT collection. 09066364349 NOW from Landline not to lose out! Box434SK38WP150PPM18+'</dd>\n",
       "</dl>\n"
      ],
      "text/latex": [
       "\\begin{description}\n",
       "\\item[\\$`1`] 'Hope you are having a good week. Just checking in'\n",
       "\\item[\\$`2`] 'K..give back my thanks.'\n",
       "\\item[\\$`3`] 'Am also doing in cbe only. But have to pay.'\n",
       "\\item[\\$`4`] 'complimentary 4 STAR Ibiza Holiday or £10,000 cash needs your URGENT collection. 09066364349 NOW from Landline not to lose out! Box434SK38WP150PPM18+'\n",
       "\\end{description}\n"
      ],
      "text/markdown": [
       "$`1`\n",
       ":   'Hope you are having a good week. Just checking in'\n",
       "$`2`\n",
       ":   'K..give back my thanks.'\n",
       "$`3`\n",
       ":   'Am also doing in cbe only. But have to pay.'\n",
       "$`4`\n",
       ":   'complimentary 4 STAR Ibiza Holiday or £10,000 cash needs your URGENT collection. 09066364349 NOW from Landline not to lose out! Box434SK38WP150PPM18+'\n",
       "\n",
       "\n"
      ],
      "text/plain": [
       "$`1`\n",
       "[1] \"Hope you are having a good week. Just checking in\"\n",
       "\n",
       "$`2`\n",
       "[1] \"K..give back my thanks.\"\n",
       "\n",
       "$`3`\n",
       "[1] \"Am also doing in cbe only. But have to pay.\"\n",
       "\n",
       "$`4`\n",
       "[1] \"complimentary 4 STAR Ibiza Holiday or £10,000 cash needs your URGENT collection. 09066364349 NOW from Landline not to lose out! Box434SK38WP150PPM18+\"\n"
      ]
     },
     "metadata": {},
     "output_type": "display_data"
    },
    {
     "data": {
      "text/html": [
       "<dl>\n",
       "\t<dt>$`1`</dt>\n",
       "\t\t<dd>'hope good week just check'</dd>\n",
       "\t<dt>$`2`</dt>\n",
       "\t\t<dd>'kgive back thank'</dd>\n",
       "\t<dt>$`3`</dt>\n",
       "\t\t<dd>'also cbe pay'</dd>\n",
       "\t<dt>$`4`</dt>\n",
       "\t\t<dd>'complimentari star ibiza holiday £ cash need urgent collect now landlin lose boxskwpppm'</dd>\n",
       "</dl>\n"
      ],
      "text/latex": [
       "\\begin{description}\n",
       "\\item[\\$`1`] 'hope good week just check'\n",
       "\\item[\\$`2`] 'kgive back thank'\n",
       "\\item[\\$`3`] 'also cbe pay'\n",
       "\\item[\\$`4`] 'complimentari star ibiza holiday £ cash need urgent collect now landlin lose boxskwpppm'\n",
       "\\end{description}\n"
      ],
      "text/markdown": [
       "$`1`\n",
       ":   'hope good week just check'\n",
       "$`2`\n",
       ":   'kgive back thank'\n",
       "$`3`\n",
       ":   'also cbe pay'\n",
       "$`4`\n",
       ":   'complimentari star ibiza holiday £ cash need urgent collect now landlin lose boxskwpppm'\n",
       "\n",
       "\n"
      ],
      "text/plain": [
       "$`1`\n",
       "[1] \"hope good week just check\"\n",
       "\n",
       "$`2`\n",
       "[1] \"kgive back thank\"\n",
       "\n",
       "$`3`\n",
       "[1] \"also cbe pay\"\n",
       "\n",
       "$`4`\n",
       "[1] \"complimentari star ibiza holiday £ cash need urgent collect now landlin lose boxskwpppm\"\n"
      ]
     },
     "metadata": {},
     "output_type": "display_data"
    }
   ],
   "source": [
    "sms_corpus_clean <- tm_map(sms_corpus_clean, stripWhitespace)\n",
    "lapply(sms_corpus[1:4], as.character)\n",
    "lapply(sms_corpus_clean[1:4], as.character)"
   ]
  },
  {
   "cell_type": "markdown",
   "metadata": {},
   "source": [
    "## Splitting text documents into words\n",
    "\n",
    "First, create a DTM (Document Term Matrix) sparse matrix:"
   ]
  },
  {
   "cell_type": "code",
   "execution_count": 37,
   "metadata": {},
   "outputs": [],
   "source": [
    "sms_dtm <- DocumentTermMatrix(sms_corpus_clean)"
   ]
  },
  {
   "cell_type": "markdown",
   "metadata": {},
   "source": [
    "## Creating training and test datasets"
   ]
  },
  {
   "cell_type": "code",
   "execution_count": 38,
   "metadata": {},
   "outputs": [],
   "source": [
    "sms_dtm_train <- sms_dtm[1:4169,]\n",
    "sms_dtm_test <- sms_dtm[4170:5559,]"
   ]
  },
  {
   "cell_type": "code",
   "execution_count": 39,
   "metadata": {},
   "outputs": [],
   "source": [
    "sms_train_labels <- sms_raw[1:4169, ]$type\n",
    "sms_test_labels <- sms_raw[4170:5559, ]$type"
   ]
  },
  {
   "cell_type": "markdown",
   "metadata": {},
   "source": [
    "Checking the proportions"
   ]
  },
  {
   "cell_type": "code",
   "execution_count": 40,
   "metadata": {},
   "outputs": [
    {
     "data": {
      "text/plain": [
       "sms_train_labels\n",
       "      ham      spam \n",
       "0.8647158 0.1352842 "
      ]
     },
     "metadata": {},
     "output_type": "display_data"
    },
    {
     "data": {
      "text/plain": [
       "sms_test_labels\n",
       "      ham      spam \n",
       "0.8683453 0.1316547 "
      ]
     },
     "metadata": {},
     "output_type": "display_data"
    }
   ],
   "source": [
    "prop.table(table(sms_train_labels))\n",
    "prop.table(table(sms_test_labels))"
   ]
  },
  {
   "cell_type": "markdown",
   "metadata": {},
   "source": [
    "## Word cloud"
   ]
  },
  {
   "cell_type": "markdown",
   "metadata": {},
   "source": [
    "Install *wordcloud* package"
   ]
  },
  {
   "cell_type": "code",
   "execution_count": 41,
   "metadata": {},
   "outputs": [],
   "source": [
    "install.packages('wordcloud', quiet = TRUE)"
   ]
  },
  {
   "cell_type": "code",
   "execution_count": 43,
   "metadata": {},
   "outputs": [],
   "source": [
    "library('wordcloud')"
   ]
  },
  {
   "cell_type": "markdown",
   "metadata": {},
   "source": [
    "Creating a word cloud:"
   ]
  },
  {
   "cell_type": "code",
   "execution_count": 44,
   "metadata": {},
   "outputs": [
    {
     "data": {
      "image/png": "[encoded data removed]",
      "text/plain": [
       "plot without title"
      ]
     },
     "metadata": {},
     "output_type": "display_data"
    }
   ],
   "source": [
    "wordcloud(sms_corpus_clean, min.freq = 50, random.order = FALSE)"
   ]
  },
  {
   "cell_type": "markdown",
   "metadata": {},
   "source": [
    "Create a subset to spam:"
   ]
  },
  {
   "cell_type": "code",
   "execution_count": 45,
   "metadata": {},
   "outputs": [],
   "source": [
    "spam <- subset(sms_raw, type == \"spam\")"
   ]
  },
  {
   "cell_type": "markdown",
   "metadata": {},
   "source": [
    "Create a subset to ham:"
   ]
  },
  {
   "cell_type": "code",
   "execution_count": 47,
   "metadata": {},
   "outputs": [],
   "source": [
    "ham <- subset(sms_raw, type == \"ham\")"
   ]
  },
  {
   "cell_type": "markdown",
   "metadata": {},
   "source": [
    "Now, create two word clouds:"
   ]
  },
  {
   "cell_type": "code",
   "execution_count": 48,
   "metadata": {},
   "outputs": [
    {
     "data": {
      "image/png": "[encoded data removed]",
      "text/plain": [
       "plot without title"
      ]
     },
     "metadata": {},
     "output_type": "display_data"
    },
    {
     "data": {
      "image/png": "[encoded data removed]",
      "text/plain": [
       "plot without title"
      ]
     },
     "metadata": {},
     "output_type": "display_data"
    }
   ],
   "source": [
    "wordcloud(spam$text, max.words = 40, scale = c(3, 0.5))\n",
    "wordcloud(ham$text, max.words = 40, scale = c(3, 0.5))"
   ]
  },
  {
   "cell_type": "markdown",
   "metadata": {},
   "source": [
    "## Creating indicator features for frequent words"
   ]
  },
  {
   "cell_type": "markdown",
   "metadata": {},
   "source": [
    "Find the frequenty words:"
   ]
  },
  {
   "cell_type": "code",
   "execution_count": 49,
   "metadata": {},
   "outputs": [
    {
     "name": "stdout",
     "output_type": "stream",
     "text": [
      " chr [1:1137] \"£wk\" \"abiola\" \"abl\" \"abt\" \"accept\" \"access\" \"account\" ...\n"
     ]
    }
   ],
   "source": [
    "sms_freq_words <- findFreqTerms(sms_dtm_train, 5)\n",
    "str(sms_freq_words)"
   ]
  },
  {
   "cell_type": "markdown",
   "metadata": {},
   "source": [
    "Now, restrict the data to frequent words:"
   ]
  },
  {
   "cell_type": "code",
   "execution_count": 50,
   "metadata": {},
   "outputs": [],
   "source": [
    "sms_dtm_freq_train <- sms_dtm_train[, sms_freq_words]\n",
    "sms_dtm_freq_test <- sms_dtm_test[, sms_freq_words]"
   ]
  },
  {
   "cell_type": "markdown",
   "metadata": {},
   "source": [
    "Function to convert counts to \"yes\" or \"no\" strings:"
   ]
  },
  {
   "cell_type": "code",
   "execution_count": 51,
   "metadata": {},
   "outputs": [],
   "source": [
    "convert_counts <- function(x) {\n",
    "    x <- ifelse(x > 0, \"Yes\", \"No\")\n",
    "}"
   ]
  },
  {
   "cell_type": "code",
   "execution_count": 53,
   "metadata": {},
   "outputs": [],
   "source": [
    "sms_train <- apply(sms_dtm_freq_train, MARGIN = 2, convert_counts)\n",
    "sms_test <- apply(sms_dtm_freq_test, MARGIN = 2, convert_counts)"
   ]
  },
  {
   "cell_type": "markdown",
   "metadata": {},
   "source": [
    "## Training a model on the data"
   ]
  },
  {
   "cell_type": "markdown",
   "metadata": {},
   "source": [
    "Now we will apply the Naive Bayes algorithm.\n",
    "\n",
    "install and loading the *e1071* package:"
   ]
  },
  {
   "cell_type": "code",
   "execution_count": 54,
   "metadata": {},
   "outputs": [],
   "source": [
    "install.packages(\"e1071\", quiet = TRUE)"
   ]
  },
  {
   "cell_type": "code",
   "execution_count": 55,
   "metadata": {},
   "outputs": [],
   "source": [
    "library(\"e1071\")"
   ]
  },
  {
   "cell_type": "markdown",
   "metadata": {},
   "source": [
    "Building the model"
   ]
  },
  {
   "cell_type": "code",
   "execution_count": 56,
   "metadata": {},
   "outputs": [],
   "source": [
    "sms_classifier <- naiveBayes(sms_train, sms_train_labels)"
   ]
  },
  {
   "cell_type": "markdown",
   "metadata": {},
   "source": [
    "## Evaluating model performance"
   ]
  },
  {
   "cell_type": "code",
   "execution_count": 57,
   "metadata": {},
   "outputs": [],
   "source": [
    "sms_test_pred <- predict(sms_classifier, sms_test)"
   ]
  },
  {
   "cell_type": "code",
   "execution_count": 58,
   "metadata": {},
   "outputs": [],
   "source": [
    "library(\"gmodels\")"
   ]
  },
  {
   "cell_type": "code",
   "execution_count": 59,
   "metadata": {},
   "outputs": [
    {
     "name": "stdout",
     "output_type": "stream",
     "text": [
      "\n",
      " \n",
      "   Cell Contents\n",
      "|-------------------------|\n",
      "|                       N |\n",
      "|           N / Row Total |\n",
      "|           N / Col Total |\n",
      "|-------------------------|\n",
      "\n",
      " \n",
      "Total Observations in Table:  1390 \n",
      "\n",
      " \n",
      "             | actual \n",
      "   predicted |       ham |      spam | Row Total | \n",
      "-------------|-----------|-----------|-----------|\n",
      "         ham |      1201 |        30 |      1231 | \n",
      "             |     0.976 |     0.024 |     0.886 | \n",
      "             |     0.995 |     0.164 |           | \n",
      "-------------|-----------|-----------|-----------|\n",
      "        spam |         6 |       153 |       159 | \n",
      "             |     0.038 |     0.962 |     0.114 | \n",
      "             |     0.005 |     0.836 |           | \n",
      "-------------|-----------|-----------|-----------|\n",
      "Column Total |      1207 |       183 |      1390 | \n",
      "             |     0.868 |     0.132 |           | \n",
      "-------------|-----------|-----------|-----------|\n",
      "\n",
      " \n"
     ]
    }
   ],
   "source": [
    "CrossTable(sms_test_pred, sms_test_labels, prop.chisq = FALSE, prop.t = FALSE, dnn = c('predicted', 'actual'))"
   ]
  },
  {
   "cell_type": "markdown",
   "metadata": {},
   "source": [
    "error:"
   ]
  },
  {
   "cell_type": "code",
   "execution_count": 60,
   "metadata": {},
   "outputs": [
    {
     "data": {
      "text/html": [
       "0.0258992805755396"
      ],
      "text/latex": [
       "0.0258992805755396"
      ],
      "text/markdown": [
       "0.0258992805755396"
      ],
      "text/plain": [
       "[1] 0.02589928"
      ]
     },
     "metadata": {},
     "output_type": "display_data"
    }
   ],
   "source": [
    "36/1390"
   ]
  },
  {
   "cell_type": "markdown",
   "metadata": {},
   "source": [
    "~ 2.6%"
   ]
  },
  {
   "cell_type": "markdown",
   "metadata": {},
   "source": [
    "## Improving model performance"
   ]
  },
  {
   "cell_type": "markdown",
   "metadata": {},
   "source": [
    "creating classifier with laplace estimator"
   ]
  },
  {
   "cell_type": "code",
   "execution_count": 64,
   "metadata": {},
   "outputs": [],
   "source": [
    "sms_classifier2 <- naiveBayes(sms_train, sms_train_labels, laplace = 1)"
   ]
  },
  {
   "cell_type": "code",
   "execution_count": 65,
   "metadata": {},
   "outputs": [],
   "source": [
    "sms_test_pred2 <- predict(sms_classifier2, sms_test)"
   ]
  },
  {
   "cell_type": "code",
   "execution_count": 66,
   "metadata": {},
   "outputs": [
    {
     "name": "stdout",
     "output_type": "stream",
     "text": [
      "\n",
      " \n",
      "   Cell Contents\n",
      "|-------------------------|\n",
      "|                       N |\n",
      "|           N / Col Total |\n",
      "|-------------------------|\n",
      "\n",
      " \n",
      "Total Observations in Table:  1390 \n",
      "\n",
      " \n",
      "             | actual \n",
      "   predicted |       ham |      spam | Row Total | \n",
      "-------------|-----------|-----------|-----------|\n",
      "         ham |      1202 |        28 |      1230 | \n",
      "             |     0.996 |     0.153 |           | \n",
      "-------------|-----------|-----------|-----------|\n",
      "        spam |         5 |       155 |       160 | \n",
      "             |     0.004 |     0.847 |           | \n",
      "-------------|-----------|-----------|-----------|\n",
      "Column Total |      1207 |       183 |      1390 | \n",
      "             |     0.868 |     0.132 |           | \n",
      "-------------|-----------|-----------|-----------|\n",
      "\n",
      " \n"
     ]
    }
   ],
   "source": [
    "CrossTable(sms_test_pred2, sms_test_labels, prop.chisq = FALSE, prop.t = FALSE, prop.r = FALSE,\n",
    "           dnn = c('predicted', 'actual'))"
   ]
  },
  {
   "cell_type": "markdown",
   "metadata": {},
   "source": [
    "Error:"
   ]
  },
  {
   "cell_type": "code",
   "execution_count": 67,
   "metadata": {},
   "outputs": [
    {
     "data": {
      "text/html": [
       "0.0237410071942446"
      ],
      "text/latex": [
       "0.0237410071942446"
      ],
      "text/markdown": [
       "0.0237410071942446"
      ],
      "text/plain": [
       "[1] 0.02374101"
      ]
     },
     "metadata": {},
     "output_type": "display_data"
    }
   ],
   "source": [
    "(28+5)/1390"
   ]
  },
  {
   "cell_type": "markdown",
   "metadata": {},
   "source": [
    "~ 2.4%"
   ]
  }
 ],
 "metadata": {
  "kernelspec": {
   "display_name": "R",
   "language": "R",
   "name": "ir"
  },
  "language_info": {
   "codemirror_mode": "r",
   "file_extension": ".r",
   "mimetype": "text/x-r-source",
   "name": "R",
   "pygments_lexer": "r",
   "version": "3.4.2"
  }
 },
 "nbformat": 4,
 "nbformat_minor": 2
}
