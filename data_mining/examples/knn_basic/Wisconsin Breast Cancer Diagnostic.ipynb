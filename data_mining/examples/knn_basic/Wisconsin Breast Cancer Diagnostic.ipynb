{
 "cells": [
  {
   "cell_type": "markdown",
   "metadata": {},
   "source": [
    "book: Machine Learning with R, second edition. Brett Lantz. packt. chapter 3. "
   ]
  },
  {
   "cell_type": "markdown",
   "metadata": {},
   "source": [
    "# Preparation"
   ]
  },
  {
   "cell_type": "markdown",
   "metadata": {},
   "source": [
    "Loading the data"
   ]
  },
  {
   "cell_type": "code",
   "execution_count": 1,
   "metadata": {},
   "outputs": [
    {
     "name": "stdout",
     "output_type": "stream",
     "text": [
      "'data.frame':\t569 obs. of  32 variables:\n",
      " $ id               : int  87139402 8910251 905520 868871 9012568 906539 925291 87880 862989 89827 ...\n",
      " $ diagnosis        : chr  \"B\" \"B\" \"B\" \"B\" ...\n",
      " $ radius_mean      : num  12.3 10.6 11 11.3 15.2 ...\n",
      " $ texture_mean     : num  12.4 18.9 16.8 13.4 13.2 ...\n",
      " $ perimeter_mean   : num  78.8 69.3 70.9 73 97.7 ...\n",
      " $ area_mean        : num  464 346 373 385 712 ...\n",
      " $ smoothness_mean  : num  0.1028 0.0969 0.1077 0.1164 0.0796 ...\n",
      " $ compactness_mean : num  0.0698 0.1147 0.078 0.1136 0.0693 ...\n",
      " $ concavity_mean   : num  0.0399 0.0639 0.0305 0.0464 0.0339 ...\n",
      " $ points_mean      : num  0.037 0.0264 0.0248 0.048 0.0266 ...\n",
      " $ symmetry_mean    : num  0.196 0.192 0.171 0.177 0.172 ...\n",
      " $ dimension_mean   : num  0.0595 0.0649 0.0634 0.0607 0.0554 ...\n",
      " $ radius_se        : num  0.236 0.451 0.197 0.338 0.178 ...\n",
      " $ texture_se       : num  0.666 1.197 1.387 1.343 0.412 ...\n",
      " $ perimeter_se     : num  1.67 3.43 1.34 1.85 1.34 ...\n",
      " $ area_se          : num  17.4 27.1 13.5 26.3 17.7 ...\n",
      " $ smoothness_se    : num  0.00805 0.00747 0.00516 0.01127 0.00501 ...\n",
      " $ compactness_se   : num  0.0118 0.03581 0.00936 0.03498 0.01485 ...\n",
      " $ concavity_se     : num  0.0168 0.0335 0.0106 0.0219 0.0155 ...\n",
      " $ points_se        : num  0.01241 0.01365 0.00748 0.01965 0.00915 ...\n",
      " $ symmetry_se      : num  0.0192 0.035 0.0172 0.0158 0.0165 ...\n",
      " $ dimension_se     : num  0.00225 0.00332 0.0022 0.00344 0.00177 ...\n",
      " $ radius_worst     : num  13.5 11.9 12.4 11.9 16.2 ...\n",
      " $ texture_worst    : num  15.6 22.9 26.4 15.8 15.7 ...\n",
      " $ perimeter_worst  : num  87 78.3 79.9 76.5 104.5 ...\n",
      " $ area_worst       : num  549 425 471 434 819 ...\n",
      " $ smoothness_worst : num  0.139 0.121 0.137 0.137 0.113 ...\n",
      " $ compactness_worst: num  0.127 0.252 0.148 0.182 0.174 ...\n",
      " $ concavity_worst  : num  0.1242 0.1916 0.1067 0.0867 0.1362 ...\n",
      " $ points_worst     : num  0.0939 0.0793 0.0743 0.0861 0.0818 ...\n",
      " $ symmetry_worst   : num  0.283 0.294 0.3 0.21 0.249 ...\n",
      " $ dimension_worst  : num  0.0677 0.0759 0.0788 0.0678 0.0677 ...\n"
     ]
    }
   ],
   "source": [
    "wbcd <- read.csv(\"wisc_bc_data.csv\", stringsAsFactors = FALSE)\n",
    "str(wbcd)"
   ]
  },
  {
   "cell_type": "markdown",
   "metadata": {},
   "source": [
    "Exclude the first column, and add labels to diagnosis."
   ]
  },
  {
   "cell_type": "code",
   "execution_count": 2,
   "metadata": {},
   "outputs": [],
   "source": [
    "wbcd <- wbcd[-1]\n",
    "wbcd$diagnosis <- factor(wbcd$diagnosis, levels = c(\"B\", \"M\"),\n",
    "               labels = c(\"Benign\", \"Malignant\"))"
   ]
  },
  {
   "cell_type": "markdown",
   "metadata": {},
   "source": [
    "Verify distribution of diagnosis"
   ]
  },
  {
   "cell_type": "code",
   "execution_count": 3,
   "metadata": {},
   "outputs": [
    {
     "data": {
      "text/plain": [
       "\n",
       "   Benign Malignant \n",
       "     62.7      37.3 "
      ]
     },
     "metadata": {},
     "output_type": "display_data"
    }
   ],
   "source": [
    "round(prop.table(table(wbcd$diagnosis))*100, digits = 1)"
   ]
  },
  {
   "cell_type": "markdown",
   "metadata": {},
   "source": [
    "Summary of three features"
   ]
  },
  {
   "cell_type": "code",
   "execution_count": 4,
   "metadata": {},
   "outputs": [
    {
     "data": {
      "text/plain": [
       "  radius_mean       area_mean      smoothness_mean  \n",
       " Min.   : 6.981   Min.   : 143.5   Min.   :0.05263  \n",
       " 1st Qu.:11.700   1st Qu.: 420.3   1st Qu.:0.08637  \n",
       " Median :13.370   Median : 551.1   Median :0.09587  \n",
       " Mean   :14.127   Mean   : 654.9   Mean   :0.09636  \n",
       " 3rd Qu.:15.780   3rd Qu.: 782.7   3rd Qu.:0.10530  \n",
       " Max.   :28.110   Max.   :2501.0   Max.   :0.16340  "
      ]
     },
     "metadata": {},
     "output_type": "display_data"
    }
   ],
   "source": [
    "summary(wbcd[c(\"radius_mean\", \"area_mean\", \"smoothness_mean\")])"
   ]
  },
  {
   "cell_type": "markdown",
   "metadata": {},
   "source": [
    "Normalize function to normalize vector"
   ]
  },
  {
   "cell_type": "code",
   "execution_count": 5,
   "metadata": {},
   "outputs": [],
   "source": [
    "normalize <- function(x) {\n",
    "    return((x - min(x))/(max(x) - min(x)))\n",
    "}"
   ]
  },
  {
   "cell_type": "markdown",
   "metadata": {},
   "source": [
    "Now, normalize entire dataset"
   ]
  },
  {
   "cell_type": "code",
   "execution_count": 6,
   "metadata": {},
   "outputs": [],
   "source": [
    "wbcd_n <- as.data.frame(lapply(wbcd[2:31], normalize))"
   ]
  },
  {
   "cell_type": "markdown",
   "metadata": {},
   "source": [
    "Get summary"
   ]
  },
  {
   "cell_type": "code",
   "execution_count": 7,
   "metadata": {},
   "outputs": [
    {
     "data": {
      "text/plain": [
       "   Min. 1st Qu.  Median    Mean 3rd Qu.    Max. \n",
       " 0.0000  0.1174  0.1729  0.2169  0.2711  1.0000 "
      ]
     },
     "metadata": {},
     "output_type": "display_data"
    }
   ],
   "source": [
    "summary(wbcd_n$area_mean)"
   ]
  },
  {
   "cell_type": "markdown",
   "metadata": {},
   "source": [
    "## Splitting\n",
    "\n",
    "Now, we need to split the data in training and test datasets"
   ]
  },
  {
   "cell_type": "code",
   "execution_count": 8,
   "metadata": {},
   "outputs": [],
   "source": [
    "wbcd_train <- wbcd_n[1:469,]\n",
    "wbcd_test <- wbcd_n[470:569,]\n",
    "\n",
    "# we will need the label too\n",
    "wbcd_train_labels <- wbcd[1:469,1]\n",
    "wbcd_test_labels <- wbcd[470:569,1]"
   ]
  },
  {
   "cell_type": "markdown",
   "metadata": {},
   "source": [
    "## Training the model\n",
    "\n",
    "basic package for classification"
   ]
  },
  {
   "cell_type": "code",
   "execution_count": 9,
   "metadata": {},
   "outputs": [],
   "source": [
    "install.packages(\"class\", quiet = TRUE)"
   ]
  },
  {
   "cell_type": "code",
   "execution_count": 10,
   "metadata": {},
   "outputs": [],
   "source": [
    "# load\n",
    "library(\"class\")"
   ]
  },
  {
   "cell_type": "markdown",
   "metadata": {},
   "source": [
    "Using `knn()` function to classify the *test* data:"
   ]
  },
  {
   "cell_type": "code",
   "execution_count": 11,
   "metadata": {},
   "outputs": [],
   "source": [
    "wbcd_test_pred <- knn(train = wbcd_train, test = wbcd_test, cl = wbcd_train_labels, k = 21)"
   ]
  },
  {
   "cell_type": "markdown",
   "metadata": {},
   "source": [
    "## Model performance\n",
    "\n",
    "install and load **gmodels** package, to use `CrossTable()` function."
   ]
  },
  {
   "cell_type": "code",
   "execution_count": 12,
   "metadata": {},
   "outputs": [],
   "source": [
    "install.packages(\"gmodels\", quiet = TRUE)"
   ]
  },
  {
   "cell_type": "code",
   "execution_count": 13,
   "metadata": {},
   "outputs": [],
   "source": [
    "library(\"gmodels\")"
   ]
  },
  {
   "cell_type": "markdown",
   "metadata": {},
   "source": [
    "Now using `CrossTable()` function."
   ]
  },
  {
   "cell_type": "code",
   "execution_count": 14,
   "metadata": {},
   "outputs": [
    {
     "name": "stdout",
     "output_type": "stream",
     "text": [
      "\n",
      " \n",
      "   Cell Contents\n",
      "|-------------------------|\n",
      "|                       N |\n",
      "|           N / Row Total |\n",
      "|           N / Col Total |\n",
      "|         N / Table Total |\n",
      "|-------------------------|\n",
      "\n",
      " \n",
      "Total Observations in Table:  100 \n",
      "\n",
      " \n",
      "                 | wbcd_test_pred \n",
      "wbcd_test_labels |    Benign | Malignant | Row Total | \n",
      "-----------------|-----------|-----------|-----------|\n",
      "          Benign |        61 |         0 |        61 | \n",
      "                 |     1.000 |     0.000 |     0.610 | \n",
      "                 |     0.968 |     0.000 |           | \n",
      "                 |     0.610 |     0.000 |           | \n",
      "-----------------|-----------|-----------|-----------|\n",
      "       Malignant |         2 |        37 |        39 | \n",
      "                 |     0.051 |     0.949 |     0.390 | \n",
      "                 |     0.032 |     1.000 |           | \n",
      "                 |     0.020 |     0.370 |           | \n",
      "-----------------|-----------|-----------|-----------|\n",
      "    Column Total |        63 |        37 |       100 | \n",
      "                 |     0.630 |     0.370 |           | \n",
      "-----------------|-----------|-----------|-----------|\n",
      "\n",
      " \n"
     ]
    }
   ],
   "source": [
    "CrossTable(x = wbcd_test_labels, y = wbcd_test_pred, prop.chisq = FALSE)"
   ]
  },
  {
   "cell_type": "markdown",
   "metadata": {},
   "source": [
    "There exists 2 false negative results in lower-left corner. In this 2 examples, the predictor classify the case as *Benign*, but these as actually *Malignant*.\n",
    "2 % of the results is incorrectly classified.\n",
    "\n",
    "## Improving\n",
    "\n",
    "We'll try two approaches:\n",
    "- changing from normalization to z-score standardization;\n",
    "- changing the k value.\n",
    "\n",
    "### z-score\n",
    "\n",
    "Before try any approach above, instead use normalization, we'll use z-score standardization:"
   ]
  },
  {
   "cell_type": "code",
   "execution_count": 15,
   "metadata": {},
   "outputs": [
    {
     "data": {
      "text/plain": [
       "   Min. 1st Qu.  Median    Mean 3rd Qu.    Max. \n",
       "-1.4532 -0.6666 -0.2949  0.0000  0.3632  5.2459 "
      ]
     },
     "metadata": {},
     "output_type": "display_data"
    }
   ],
   "source": [
    "wbcd_z <- as.data.frame(scale(wbcd[-1]))\n",
    "summary(wbcd_z$area_mean)"
   ]
  },
  {
   "cell_type": "markdown",
   "metadata": {},
   "source": [
    "Now, any value more bigger than 3 or more fewer than -3 is extreme.\n",
    "\n",
    "Using this new transformation:"
   ]
  },
  {
   "cell_type": "code",
   "execution_count": 16,
   "metadata": {},
   "outputs": [
    {
     "name": "stdout",
     "output_type": "stream",
     "text": [
      "\n",
      " \n",
      "   Cell Contents\n",
      "|-------------------------|\n",
      "|                       N |\n",
      "|           N / Row Total |\n",
      "|           N / Col Total |\n",
      "|         N / Table Total |\n",
      "|-------------------------|\n",
      "\n",
      " \n",
      "Total Observations in Table:  100 \n",
      "\n",
      " \n",
      "                 | wbcd_test_pred \n",
      "wbcd_test_labels |    Benign | Malignant | Row Total | \n",
      "-----------------|-----------|-----------|-----------|\n",
      "          Benign |        61 |         0 |        61 | \n",
      "                 |     1.000 |     0.000 |     0.610 | \n",
      "                 |     0.924 |     0.000 |           | \n",
      "                 |     0.610 |     0.000 |           | \n",
      "-----------------|-----------|-----------|-----------|\n",
      "       Malignant |         5 |        34 |        39 | \n",
      "                 |     0.128 |     0.872 |     0.390 | \n",
      "                 |     0.076 |     1.000 |           | \n",
      "                 |     0.050 |     0.340 |           | \n",
      "-----------------|-----------|-----------|-----------|\n",
      "    Column Total |        66 |        34 |       100 | \n",
      "                 |     0.660 |     0.340 |           | \n",
      "-----------------|-----------|-----------|-----------|\n",
      "\n",
      " \n"
     ]
    }
   ],
   "source": [
    "wbcd_train <- wbcd_z[1:469, ]\n",
    "wbcd_test <- wbcd_z[470:569, ]\n",
    "wbcd_train_labels <- wbcd[1:469, 1]\n",
    "wbcd_test_labels <- wbcd[470:569, 1]\n",
    "wbcd_test_pred <- knn(train = wbcd_train, test = wbcd_test, cl = wbcd_train_labels, k = 21)\n",
    "CrossTable(x = wbcd_test_labels, y = wbcd_test_pred, prop.chisq = FALSE)"
   ]
  },
  {
   "cell_type": "markdown",
   "metadata": {},
   "source": [
    "Now, the classification has 5% of error. This is even worse than before."
   ]
  },
  {
   "cell_type": "markdown",
   "metadata": {},
   "source": [
    "### Alternative values of k\n",
    "\n"
   ]
  },
  {
   "cell_type": "code",
   "execution_count": 17,
   "metadata": {},
   "outputs": [],
   "source": [
    "# setting data to normalized version\n",
    "wbcd_train <- wbcd_n[1:469, ]\n",
    "wbcd_test <- wbcd_n[470:569, ]\n",
    "wbcd_train_labels <- wbcd[1:469, 1]\n",
    "wbcd_test_labels <- wbcd[470:569, 1]"
   ]
  },
  {
   "cell_type": "code",
   "execution_count": 18,
   "metadata": {},
   "outputs": [
    {
     "name": "stdout",
     "output_type": "stream",
     "text": [
      "\n",
      " \n",
      "   Cell Contents\n",
      "|-------------------------|\n",
      "|                       N |\n",
      "|           N / Row Total |\n",
      "|           N / Col Total |\n",
      "|         N / Table Total |\n",
      "|-------------------------|\n",
      "\n",
      " \n",
      "Total Observations in Table:  100 \n",
      "\n",
      " \n",
      "                 | wbcd_test_pred \n",
      "wbcd_test_labels |    Benign | Malignant | Row Total | \n",
      "-----------------|-----------|-----------|-----------|\n",
      "          Benign |        58 |         3 |        61 | \n",
      "                 |     0.951 |     0.049 |     0.610 | \n",
      "                 |     0.983 |     0.073 |           | \n",
      "                 |     0.580 |     0.030 |           | \n",
      "-----------------|-----------|-----------|-----------|\n",
      "       Malignant |         1 |        38 |        39 | \n",
      "                 |     0.026 |     0.974 |     0.390 | \n",
      "                 |     0.017 |     0.927 |           | \n",
      "                 |     0.010 |     0.380 |           | \n",
      "-----------------|-----------|-----------|-----------|\n",
      "    Column Total |        59 |        41 |       100 | \n",
      "                 |     0.590 |     0.410 |           | \n",
      "-----------------|-----------|-----------|-----------|\n",
      "\n",
      " \n"
     ]
    }
   ],
   "source": [
    "# k = 1\n",
    "wbcd_test_pred <- knn(train = wbcd_train, test = wbcd_test, cl = wbcd_train_labels, k = 1)\n",
    "CrossTable(x = wbcd_test_labels, y = wbcd_test_pred, prop.chisq = FALSE)"
   ]
  },
  {
   "cell_type": "code",
   "execution_count": 19,
   "metadata": {},
   "outputs": [
    {
     "name": "stdout",
     "output_type": "stream",
     "text": [
      "\n",
      " \n",
      "   Cell Contents\n",
      "|-------------------------|\n",
      "|                       N |\n",
      "|           N / Row Total |\n",
      "|           N / Col Total |\n",
      "|         N / Table Total |\n",
      "|-------------------------|\n",
      "\n",
      " \n",
      "Total Observations in Table:  100 \n",
      "\n",
      " \n",
      "                 | wbcd_test_pred \n",
      "wbcd_test_labels |    Benign | Malignant | Row Total | \n",
      "-----------------|-----------|-----------|-----------|\n",
      "          Benign |        61 |         0 |        61 | \n",
      "                 |     1.000 |     0.000 |     0.610 | \n",
      "                 |     0.968 |     0.000 |           | \n",
      "                 |     0.610 |     0.000 |           | \n",
      "-----------------|-----------|-----------|-----------|\n",
      "       Malignant |         2 |        37 |        39 | \n",
      "                 |     0.051 |     0.949 |     0.390 | \n",
      "                 |     0.032 |     1.000 |           | \n",
      "                 |     0.020 |     0.370 |           | \n",
      "-----------------|-----------|-----------|-----------|\n",
      "    Column Total |        63 |        37 |       100 | \n",
      "                 |     0.630 |     0.370 |           | \n",
      "-----------------|-----------|-----------|-----------|\n",
      "\n",
      " \n"
     ]
    }
   ],
   "source": [
    "# k = 5\n",
    "wbcd_test_pred <- knn(train = wbcd_train, test = wbcd_test, cl = wbcd_train_labels, k = 5)\n",
    "CrossTable(x = wbcd_test_labels, y = wbcd_test_pred, prop.chisq = FALSE)"
   ]
  },
  {
   "cell_type": "code",
   "execution_count": 20,
   "metadata": {},
   "outputs": [
    {
     "name": "stdout",
     "output_type": "stream",
     "text": [
      "\n",
      " \n",
      "   Cell Contents\n",
      "|-------------------------|\n",
      "|                       N |\n",
      "|           N / Row Total |\n",
      "|           N / Col Total |\n",
      "|         N / Table Total |\n",
      "|-------------------------|\n",
      "\n",
      " \n",
      "Total Observations in Table:  100 \n",
      "\n",
      " \n",
      "                 | wbcd_test_pred \n",
      "wbcd_test_labels |    Benign | Malignant | Row Total | \n",
      "-----------------|-----------|-----------|-----------|\n",
      "          Benign |        61 |         0 |        61 | \n",
      "                 |     1.000 |     0.000 |     0.610 | \n",
      "                 |     0.953 |     0.000 |           | \n",
      "                 |     0.610 |     0.000 |           | \n",
      "-----------------|-----------|-----------|-----------|\n",
      "       Malignant |         3 |        36 |        39 | \n",
      "                 |     0.077 |     0.923 |     0.390 | \n",
      "                 |     0.047 |     1.000 |           | \n",
      "                 |     0.030 |     0.360 |           | \n",
      "-----------------|-----------|-----------|-----------|\n",
      "    Column Total |        64 |        36 |       100 | \n",
      "                 |     0.640 |     0.360 |           | \n",
      "-----------------|-----------|-----------|-----------|\n",
      "\n",
      " \n"
     ]
    }
   ],
   "source": [
    "# k = 11\n",
    "wbcd_test_pred <- knn(train = wbcd_train, test = wbcd_test, cl = wbcd_train_labels, k = 11)\n",
    "CrossTable(x = wbcd_test_labels, y = wbcd_test_pred, prop.chisq = FALSE)"
   ]
  },
  {
   "cell_type": "code",
   "execution_count": 21,
   "metadata": {},
   "outputs": [
    {
     "name": "stdout",
     "output_type": "stream",
     "text": [
      "\n",
      " \n",
      "   Cell Contents\n",
      "|-------------------------|\n",
      "|                       N |\n",
      "|           N / Row Total |\n",
      "|           N / Col Total |\n",
      "|         N / Table Total |\n",
      "|-------------------------|\n",
      "\n",
      " \n",
      "Total Observations in Table:  100 \n",
      "\n",
      " \n",
      "                 | wbcd_test_pred \n",
      "wbcd_test_labels |    Benign | Malignant | Row Total | \n",
      "-----------------|-----------|-----------|-----------|\n",
      "          Benign |        61 |         0 |        61 | \n",
      "                 |     1.000 |     0.000 |     0.610 | \n",
      "                 |     0.953 |     0.000 |           | \n",
      "                 |     0.610 |     0.000 |           | \n",
      "-----------------|-----------|-----------|-----------|\n",
      "       Malignant |         3 |        36 |        39 | \n",
      "                 |     0.077 |     0.923 |     0.390 | \n",
      "                 |     0.047 |     1.000 |           | \n",
      "                 |     0.030 |     0.360 |           | \n",
      "-----------------|-----------|-----------|-----------|\n",
      "    Column Total |        64 |        36 |       100 | \n",
      "                 |     0.640 |     0.360 |           | \n",
      "-----------------|-----------|-----------|-----------|\n",
      "\n",
      " \n"
     ]
    }
   ],
   "source": [
    "# k = 15\n",
    "wbcd_test_pred <- knn(train = wbcd_train, test = wbcd_test, cl = wbcd_train_labels, k = 15)\n",
    "CrossTable(x = wbcd_test_labels, y = wbcd_test_pred, prop.chisq = FALSE)"
   ]
  },
  {
   "cell_type": "code",
   "execution_count": 22,
   "metadata": {},
   "outputs": [
    {
     "name": "stdout",
     "output_type": "stream",
     "text": [
      "\n",
      " \n",
      "   Cell Contents\n",
      "|-------------------------|\n",
      "|                       N |\n",
      "|           N / Row Total |\n",
      "|           N / Col Total |\n",
      "|         N / Table Total |\n",
      "|-------------------------|\n",
      "\n",
      " \n",
      "Total Observations in Table:  100 \n",
      "\n",
      " \n",
      "                 | wbcd_test_pred \n",
      "wbcd_test_labels |    Benign | Malignant | Row Total | \n",
      "-----------------|-----------|-----------|-----------|\n",
      "          Benign |        61 |         0 |        61 | \n",
      "                 |     1.000 |     0.000 |     0.610 | \n",
      "                 |     0.968 |     0.000 |           | \n",
      "                 |     0.610 |     0.000 |           | \n",
      "-----------------|-----------|-----------|-----------|\n",
      "       Malignant |         2 |        37 |        39 | \n",
      "                 |     0.051 |     0.949 |     0.390 | \n",
      "                 |     0.032 |     1.000 |           | \n",
      "                 |     0.020 |     0.370 |           | \n",
      "-----------------|-----------|-----------|-----------|\n",
      "    Column Total |        63 |        37 |       100 | \n",
      "                 |     0.630 |     0.370 |           | \n",
      "-----------------|-----------|-----------|-----------|\n",
      "\n",
      " \n"
     ]
    }
   ],
   "source": [
    "# k = 21\n",
    "wbcd_test_pred <- knn(train = wbcd_train, test = wbcd_test, cl = wbcd_train_labels, k = 21)\n",
    "CrossTable(x = wbcd_test_labels, y = wbcd_test_pred, prop.chisq = FALSE)"
   ]
  },
  {
   "cell_type": "code",
   "execution_count": 23,
   "metadata": {},
   "outputs": [
    {
     "name": "stdout",
     "output_type": "stream",
     "text": [
      "\n",
      " \n",
      "   Cell Contents\n",
      "|-------------------------|\n",
      "|                       N |\n",
      "|           N / Row Total |\n",
      "|           N / Col Total |\n",
      "|         N / Table Total |\n",
      "|-------------------------|\n",
      "\n",
      " \n",
      "Total Observations in Table:  100 \n",
      "\n",
      " \n",
      "                 | wbcd_test_pred \n",
      "wbcd_test_labels |    Benign | Malignant | Row Total | \n",
      "-----------------|-----------|-----------|-----------|\n",
      "          Benign |        61 |         0 |        61 | \n",
      "                 |     1.000 |     0.000 |     0.610 | \n",
      "                 |     0.938 |     0.000 |           | \n",
      "                 |     0.610 |     0.000 |           | \n",
      "-----------------|-----------|-----------|-----------|\n",
      "       Malignant |         4 |        35 |        39 | \n",
      "                 |     0.103 |     0.897 |     0.390 | \n",
      "                 |     0.062 |     1.000 |           | \n",
      "                 |     0.040 |     0.350 |           | \n",
      "-----------------|-----------|-----------|-----------|\n",
      "    Column Total |        65 |        35 |       100 | \n",
      "                 |     0.650 |     0.350 |           | \n",
      "-----------------|-----------|-----------|-----------|\n",
      "\n",
      " \n"
     ]
    }
   ],
   "source": [
    "# k = 27\n",
    "wbcd_test_pred <- knn(train = wbcd_train, test = wbcd_test, cl = wbcd_train_labels, k = 27)\n",
    "CrossTable(x = wbcd_test_labels, y = wbcd_test_pred, prop.chisq = FALSE)"
   ]
  },
  {
   "cell_type": "markdown",
   "metadata": {},
   "source": [
    "For several k values, the error can raise or reduce, but is never perfect. Bigger k may overfitting the model to training data."
   ]
  }
 ],
 "metadata": {
  "kernelspec": {
   "display_name": "R",
   "language": "R",
   "name": "ir"
  },
  "language_info": {
   "codemirror_mode": "r",
   "file_extension": ".r",
   "mimetype": "text/x-r-source",
   "name": "R",
   "pygments_lexer": "r",
   "version": "3.4.2"
  }
 },
 "nbformat": 4,
 "nbformat_minor": 2
}
